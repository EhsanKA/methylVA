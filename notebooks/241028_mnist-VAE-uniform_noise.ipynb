{
 "cells": [
  {
   "cell_type": "code",
   "execution_count": 1,
   "id": "107aba69-bd30-47a1-9b53-16249c57deca",
   "metadata": {},
   "outputs": [],
   "source": [
    "%load_ext autoreload\n",
    "# %reload_ext autoreload\n",
    "%autoreload 2\n"
   ]
  },
  {
   "cell_type": "code",
   "execution_count": null,
   "id": "1d5981d6-f24c-4ae8-9a78-f2e158433672",
   "metadata": {},
   "outputs": [],
   "source": []
  },
  {
   "cell_type": "code",
   "execution_count": 2,
   "id": "9aa45a75-58d1-4fb4-b8d1-fea8e5526fb0",
   "metadata": {},
   "outputs": [],
   "source": [
    "from datetime import datetime\n",
    "\n",
    "import torch\n",
    "from torch.utils.tensorboard import SummaryWriter\n",
    "\n",
    "from methylVA.mnist.model import VAE\n",
    "from methylVA.mnist.training import train, test\n",
    "\n",
    "\n",
    "batch_size = 128\n",
    "learning_rate = 1e-3\n",
    "weight_decay = 1e-2\n",
    "num_epochs = 50\n",
    "latent_dim = 2\n",
    "hidden_dim = 512\n",
    "name = 'VAE_MNIST_UNIFORM_NOISE'\n",
    "\n",
    "device = torch.device('cuda' if torch.cuda.is_available() else 'cpu')\n",
    "model = VAE(input_dim=784, latent_dim=latent_dim, hidden_dim=hidden_dim).to(device)\n",
    "optimizer = torch.optim.AdamW(model.parameters(), lr=learning_rate, weight_decay=weight_decay)\n",
    "writer_train = SummaryWriter(f'../experiments/{name}/train/{datetime.now().strftime(\"%Y%m%d-%H%M%S\")}')\n",
    "writer_test = SummaryWriter(f'../experiments/{name}/test/{datetime.now().strftime(\"%Y%m%d-%H%M%S\")}')\n"
   ]
  },
  {
   "cell_type": "code",
   "execution_count": null,
   "id": "1802a47b-3513-4890-a594-56f183ec54b2",
   "metadata": {},
   "outputs": [],
   "source": []
  },
  {
   "cell_type": "code",
   "execution_count": 3,
   "id": "beb070f8-8e68-4809-81e6-febc696afaef",
   "metadata": {
    "scrolled": true
   },
   "outputs": [],
   "source": [
    "from methylVA.mnist.dataset import get_uniform_data_loaders\n",
    "train_loader, test_loader = get_uniform_data_loaders()"
   ]
  },
  {
   "cell_type": "code",
   "execution_count": null,
   "id": "d605edb6-abee-4a41-8987-48adf90fc0aa",
   "metadata": {},
   "outputs": [],
   "source": []
  },
  {
   "cell_type": "code",
   "execution_count": 4,
   "id": "4c20d498-f54b-4563-aed7-46061753bc9e",
   "metadata": {},
   "outputs": [
    {
     "name": "stdout",
     "output_type": "stream",
     "text": [
      "Epoch 1/50\n"
     ]
    },
    {
     "name": "stderr",
     "output_type": "stream",
     "text": [
      "  3%|▎         | 13/469 [00:00<00:14, 31.85it/s]"
     ]
    },
    {
     "name": "stdout",
     "output_type": "stream",
     "text": [
      "Step 0, (N samples: 0), Loss: 543.7794, (Recon: 543.5255, KL: 0.2538), Gradient norm: 1.0683\n"
     ]
    },
    {
     "name": "stderr",
     "output_type": "stream",
     "text": [
      " 26%|██▌       | 121/469 [00:01<00:03, 113.58it/s]"
     ]
    },
    {
     "name": "stdout",
     "output_type": "stream",
     "text": [
      "Step 100, (N samples: 12,800), Loss: 543.4340, (Recon: 543.4337, KL: 0.0003), Gradient norm: 0.7749\n"
     ]
    },
    {
     "name": "stderr",
     "output_type": "stream",
     "text": [
      " 46%|████▋     | 217/469 [00:02<00:02, 117.36it/s]"
     ]
    },
    {
     "name": "stdout",
     "output_type": "stream",
     "text": [
      "Step 200, (N samples: 25,600), Loss: 543.4432, (Recon: 543.4429, KL: 0.0003), Gradient norm: 0.7441\n"
     ]
    },
    {
     "name": "stderr",
     "output_type": "stream",
     "text": [
      " 67%|██████▋   | 313/469 [00:03<00:01, 117.92it/s]"
     ]
    },
    {
     "name": "stdout",
     "output_type": "stream",
     "text": [
      "Step 300, (N samples: 38,400), Loss: 543.4442, (Recon: 543.4440, KL: 0.0002), Gradient norm: 0.7770\n"
     ]
    },
    {
     "name": "stderr",
     "output_type": "stream",
     "text": [
      " 90%|████████▉ | 421/469 [00:03<00:00, 116.27it/s]"
     ]
    },
    {
     "name": "stdout",
     "output_type": "stream",
     "text": [
      "Step 400, (N samples: 51,200), Loss: 543.4294, (Recon: 543.4293, KL: 0.0001), Gradient norm: 0.7470\n"
     ]
    },
    {
     "name": "stderr",
     "output_type": "stream",
     "text": [
      "100%|██████████| 469/469 [00:04<00:00, 106.32it/s]\n",
      "Testing: 100%|██████████| 79/79 [00:00<00:00, 157.75it/s]\n"
     ]
    },
    {
     "name": "stdout",
     "output_type": "stream",
     "text": [
      "====> Test set loss: 543.4394, (BCE: 543.4393, KLD: 0.0001)\n",
      "Epoch 2/50\n"
     ]
    },
    {
     "name": "stderr",
     "output_type": "stream",
     "text": [
      " 12%|█▏        | 55/469 [00:00<00:03, 111.43it/s]"
     ]
    },
    {
     "name": "stdout",
     "output_type": "stream",
     "text": [
      "Step 500, (N samples: 64,000), Loss: 543.4510, (Recon: 543.4509, KL: 0.0001), Gradient norm: 0.7928\n"
     ]
    },
    {
     "name": "stderr",
     "output_type": "stream",
     "text": [
      " 32%|███▏      | 151/469 [00:01<00:02, 118.03it/s]"
     ]
    },
    {
     "name": "stdout",
     "output_type": "stream",
     "text": [
      "Step 600, (N samples: 76,800), Loss: 543.4564, (Recon: 543.4563, KL: 0.0001), Gradient norm: 0.8236\n"
     ]
    },
    {
     "name": "stderr",
     "output_type": "stream",
     "text": [
      " 53%|█████▎    | 247/469 [00:02<00:01, 117.72it/s]"
     ]
    },
    {
     "name": "stdout",
     "output_type": "stream",
     "text": [
      "Step 700, (N samples: 89,600), Loss: 543.4474, (Recon: 543.4473, KL: 0.0001), Gradient norm: 0.7959\n"
     ]
    },
    {
     "name": "stderr",
     "output_type": "stream",
     "text": [
      " 76%|███████▌  | 355/469 [00:03<00:00, 118.04it/s]"
     ]
    },
    {
     "name": "stdout",
     "output_type": "stream",
     "text": [
      "Step 800, (N samples: 102,400), Loss: 543.4265, (Recon: 543.4263, KL: 0.0001), Gradient norm: 0.7684\n"
     ]
    },
    {
     "name": "stderr",
     "output_type": "stream",
     "text": [
      " 96%|█████████▌| 451/469 [00:03<00:00, 118.12it/s]"
     ]
    },
    {
     "name": "stdout",
     "output_type": "stream",
     "text": [
      "Step 900, (N samples: 115,200), Loss: 543.4423, (Recon: 543.4423, KL: 0.0001), Gradient norm: 0.7947\n"
     ]
    },
    {
     "name": "stderr",
     "output_type": "stream",
     "text": [
      "100%|██████████| 469/469 [00:04<00:00, 116.02it/s]\n",
      "Testing: 100%|██████████| 79/79 [00:00<00:00, 158.64it/s]\n"
     ]
    },
    {
     "name": "stdout",
     "output_type": "stream",
     "text": [
      "====> Test set loss: 543.4357, (BCE: 543.4357, KLD: 0.0001)\n",
      "Epoch 3/50\n"
     ]
    },
    {
     "name": "stderr",
     "output_type": "stream",
     "text": [
      " 17%|█▋        | 79/469 [00:00<00:03, 115.81it/s]"
     ]
    },
    {
     "name": "stdout",
     "output_type": "stream",
     "text": [
      "Step 1,000, (N samples: 128,000), Loss: 543.4374, (Recon: 543.4374, KL: 0.0001), Gradient norm: 0.7990\n"
     ]
    },
    {
     "name": "stderr",
     "output_type": "stream",
     "text": [
      " 37%|███▋      | 175/469 [00:01<00:02, 117.18it/s]"
     ]
    },
    {
     "name": "stdout",
     "output_type": "stream",
     "text": [
      "Step 1,100, (N samples: 140,800), Loss: 543.4415, (Recon: 543.4414, KL: 0.0000), Gradient norm: 0.7842\n"
     ]
    },
    {
     "name": "stderr",
     "output_type": "stream",
     "text": [
      " 60%|██████    | 283/469 [00:02<00:01, 118.62it/s]"
     ]
    },
    {
     "name": "stdout",
     "output_type": "stream",
     "text": [
      "Step 1,200, (N samples: 153,600), Loss: 543.4367, (Recon: 543.4366, KL: 0.0001), Gradient norm: 0.7636\n"
     ]
    },
    {
     "name": "stderr",
     "output_type": "stream",
     "text": [
      " 81%|████████  | 379/469 [00:03<00:00, 118.63it/s]"
     ]
    },
    {
     "name": "stdout",
     "output_type": "stream",
     "text": [
      "Step 1,300, (N samples: 166,400), Loss: 543.4348, (Recon: 543.4348, KL: 0.0000), Gradient norm: 0.8176\n"
     ]
    },
    {
     "name": "stderr",
     "output_type": "stream",
     "text": [
      "100%|██████████| 469/469 [00:04<00:00, 116.69it/s]\n"
     ]
    },
    {
     "name": "stdout",
     "output_type": "stream",
     "text": [
      "Step 1,400, (N samples: 179,200), Loss: 543.4302, (Recon: 543.4302, KL: 0.0000), Gradient norm: 0.7509\n"
     ]
    },
    {
     "name": "stderr",
     "output_type": "stream",
     "text": [
      "Testing: 100%|██████████| 79/79 [00:00<00:00, 156.26it/s]\n"
     ]
    },
    {
     "name": "stdout",
     "output_type": "stream",
     "text": [
      "====> Test set loss: 543.4392, (BCE: 543.4392, KLD: 0.0000)\n",
      "Epoch 4/50\n"
     ]
    },
    {
     "name": "stderr",
     "output_type": "stream",
     "text": [
      " 25%|██▍       | 115/469 [00:01<00:03, 116.85it/s]"
     ]
    },
    {
     "name": "stdout",
     "output_type": "stream",
     "text": [
      "Step 1,500, (N samples: 192,000), Loss: 543.4357, (Recon: 543.4357, KL: 0.0000), Gradient norm: 0.7572\n"
     ]
    },
    {
     "name": "stderr",
     "output_type": "stream",
     "text": [
      " 45%|████▍     | 211/469 [00:01<00:02, 116.60it/s]"
     ]
    },
    {
     "name": "stdout",
     "output_type": "stream",
     "text": [
      "Step 1,600, (N samples: 204,800), Loss: 543.4271, (Recon: 543.4270, KL: 0.0001), Gradient norm: 0.7549\n"
     ]
    },
    {
     "name": "stderr",
     "output_type": "stream",
     "text": [
      " 65%|██████▌   | 307/469 [00:02<00:01, 115.99it/s]"
     ]
    },
    {
     "name": "stdout",
     "output_type": "stream",
     "text": [
      "Step 1,700, (N samples: 217,600), Loss: 543.4346, (Recon: 543.4346, KL: 0.0000), Gradient norm: 0.7584\n"
     ]
    },
    {
     "name": "stderr",
     "output_type": "stream",
     "text": [
      " 88%|████████▊ | 415/469 [00:03<00:00, 116.73it/s]"
     ]
    },
    {
     "name": "stdout",
     "output_type": "stream",
     "text": [
      "Step 1,800, (N samples: 230,400), Loss: 543.4356, (Recon: 543.4355, KL: 0.0000), Gradient norm: 0.7509\n"
     ]
    },
    {
     "name": "stderr",
     "output_type": "stream",
     "text": [
      "100%|██████████| 469/469 [00:04<00:00, 115.44it/s]\n",
      "Testing: 100%|██████████| 79/79 [00:00<00:00, 158.58it/s]\n"
     ]
    },
    {
     "name": "stdout",
     "output_type": "stream",
     "text": [
      "====> Test set loss: 543.4354, (BCE: 543.4353, KLD: 0.0001)\n",
      "Epoch 5/50\n"
     ]
    },
    {
     "name": "stderr",
     "output_type": "stream",
     "text": [
      "  9%|▉         | 43/469 [00:00<00:03, 107.74it/s]"
     ]
    },
    {
     "name": "stdout",
     "output_type": "stream",
     "text": [
      "Step 1,900, (N samples: 243,200), Loss: 543.4265, (Recon: 543.4265, KL: 0.0001), Gradient norm: 0.7673\n"
     ]
    },
    {
     "name": "stderr",
     "output_type": "stream",
     "text": [
      " 30%|██▉       | 139/469 [00:01<00:02, 117.38it/s]"
     ]
    },
    {
     "name": "stdout",
     "output_type": "stream",
     "text": [
      "Step 2,000, (N samples: 256,000), Loss: 543.4405, (Recon: 543.4404, KL: 0.0000), Gradient norm: 0.7507\n"
     ]
    },
    {
     "name": "stderr",
     "output_type": "stream",
     "text": [
      " 53%|█████▎    | 247/469 [00:02<00:01, 118.55it/s]"
     ]
    },
    {
     "name": "stdout",
     "output_type": "stream",
     "text": [
      "Step 2,100, (N samples: 268,800), Loss: 543.4329, (Recon: 543.4329, KL: 0.0001), Gradient norm: 0.7522\n"
     ]
    },
    {
     "name": "stderr",
     "output_type": "stream",
     "text": [
      " 73%|███████▎  | 343/469 [00:02<00:01, 118.22it/s]"
     ]
    },
    {
     "name": "stdout",
     "output_type": "stream",
     "text": [
      "Step 2,200, (N samples: 281,600), Loss: 543.4463, (Recon: 543.4462, KL: 0.0001), Gradient norm: 0.7812\n"
     ]
    },
    {
     "name": "stderr",
     "output_type": "stream",
     "text": [
      " 94%|█████████▎| 439/469 [00:03<00:00, 118.41it/s]"
     ]
    },
    {
     "name": "stdout",
     "output_type": "stream",
     "text": [
      "Step 2,300, (N samples: 294,400), Loss: 543.4428, (Recon: 543.4428, KL: 0.0000), Gradient norm: 0.8073\n"
     ]
    },
    {
     "name": "stderr",
     "output_type": "stream",
     "text": [
      "100%|██████████| 469/469 [00:04<00:00, 116.20it/s]\n",
      "Testing: 100%|██████████| 79/79 [00:00<00:00, 158.36it/s]\n"
     ]
    },
    {
     "name": "stdout",
     "output_type": "stream",
     "text": [
      "====> Test set loss: 543.4365, (BCE: 543.4364, KLD: 0.0000)\n",
      "Epoch 6/50\n"
     ]
    },
    {
     "name": "stderr",
     "output_type": "stream",
     "text": [
      " 17%|█▋        | 79/469 [00:00<00:03, 114.05it/s]"
     ]
    },
    {
     "name": "stdout",
     "output_type": "stream",
     "text": [
      "Step 2,400, (N samples: 307,200), Loss: 543.4368, (Recon: 543.4368, KL: 0.0000), Gradient norm: 0.7415\n"
     ]
    },
    {
     "name": "stderr",
     "output_type": "stream",
     "text": [
      " 37%|███▋      | 175/469 [00:01<00:02, 118.07it/s]"
     ]
    },
    {
     "name": "stdout",
     "output_type": "stream",
     "text": [
      "Step 2,500, (N samples: 320,000), Loss: 543.4437, (Recon: 543.4437, KL: 0.0000), Gradient norm: 0.7647\n"
     ]
    },
    {
     "name": "stderr",
     "output_type": "stream",
     "text": [
      " 58%|█████▊    | 271/469 [00:02<00:01, 117.93it/s]"
     ]
    },
    {
     "name": "stdout",
     "output_type": "stream",
     "text": [
      "Step 2,600, (N samples: 332,800), Loss: 543.4250, (Recon: 543.4250, KL: 0.0000), Gradient norm: 0.7882\n"
     ]
    },
    {
     "name": "stderr",
     "output_type": "stream",
     "text": [
      " 81%|████████  | 379/469 [00:03<00:00, 118.26it/s]"
     ]
    },
    {
     "name": "stdout",
     "output_type": "stream",
     "text": [
      "Step 2,700, (N samples: 345,600), Loss: 543.4344, (Recon: 543.4344, KL: 0.0000), Gradient norm: 0.7600\n"
     ]
    },
    {
     "name": "stderr",
     "output_type": "stream",
     "text": [
      "100%|██████████| 469/469 [00:04<00:00, 116.19it/s]\n"
     ]
    },
    {
     "name": "stdout",
     "output_type": "stream",
     "text": [
      "Step 2,800, (N samples: 358,400), Loss: 543.4482, (Recon: 543.4482, KL: 0.0000), Gradient norm: 0.7923\n"
     ]
    },
    {
     "name": "stderr",
     "output_type": "stream",
     "text": [
      "Testing: 100%|██████████| 79/79 [00:00<00:00, 158.61it/s]\n"
     ]
    },
    {
     "name": "stdout",
     "output_type": "stream",
     "text": [
      "====> Test set loss: 543.4338, (BCE: 543.4338, KLD: 0.0000)\n",
      "Epoch 7/50\n"
     ]
    },
    {
     "name": "stderr",
     "output_type": "stream",
     "text": [
      " 22%|██▏       | 103/469 [00:00<00:03, 116.69it/s]"
     ]
    },
    {
     "name": "stdout",
     "output_type": "stream",
     "text": [
      "Step 2,900, (N samples: 371,200), Loss: 543.4324, (Recon: 543.4324, KL: 0.0000), Gradient norm: 0.7594\n"
     ]
    },
    {
     "name": "stderr",
     "output_type": "stream",
     "text": [
      " 42%|████▏     | 199/469 [00:01<00:02, 116.69it/s]"
     ]
    },
    {
     "name": "stdout",
     "output_type": "stream",
     "text": [
      "Step 3,000, (N samples: 384,000), Loss: 543.4334, (Recon: 543.4334, KL: 0.0000), Gradient norm: 0.7465\n"
     ]
    },
    {
     "name": "stderr",
     "output_type": "stream",
     "text": [
      " 65%|██████▌   | 307/469 [00:02<00:01, 117.65it/s]"
     ]
    },
    {
     "name": "stdout",
     "output_type": "stream",
     "text": [
      "Step 3,100, (N samples: 396,800), Loss: 543.4365, (Recon: 543.4365, KL: 0.0000), Gradient norm: 0.7863\n"
     ]
    },
    {
     "name": "stderr",
     "output_type": "stream",
     "text": [
      " 86%|████████▌ | 403/469 [00:03<00:00, 118.36it/s]"
     ]
    },
    {
     "name": "stdout",
     "output_type": "stream",
     "text": [
      "Step 3,200, (N samples: 409,600), Loss: 543.4339, (Recon: 543.4339, KL: 0.0000), Gradient norm: 0.8137\n"
     ]
    },
    {
     "name": "stderr",
     "output_type": "stream",
     "text": [
      "100%|██████████| 469/469 [00:04<00:00, 116.16it/s]\n",
      "Testing: 100%|██████████| 79/79 [00:00<00:00, 158.00it/s]\n"
     ]
    },
    {
     "name": "stdout",
     "output_type": "stream",
     "text": [
      "====> Test set loss: 543.4351, (BCE: 543.4351, KLD: 0.0000)\n",
      "Epoch 8/50\n"
     ]
    },
    {
     "name": "stderr",
     "output_type": "stream",
     "text": [
      "  6%|▋         | 30/469 [00:00<00:04, 100.78it/s]"
     ]
    },
    {
     "name": "stdout",
     "output_type": "stream",
     "text": [
      "Step 3,300, (N samples: 422,400), Loss: 543.4303, (Recon: 543.4303, KL: 0.0000), Gradient norm: 0.7819\n"
     ]
    },
    {
     "name": "stderr",
     "output_type": "stream",
     "text": [
      " 29%|██▉       | 138/469 [00:01<00:02, 116.00it/s]"
     ]
    },
    {
     "name": "stdout",
     "output_type": "stream",
     "text": [
      "Step 3,400, (N samples: 435,200), Loss: 543.4336, (Recon: 543.4336, KL: 0.0000), Gradient norm: 0.8116\n"
     ]
    },
    {
     "name": "stderr",
     "output_type": "stream",
     "text": [
      " 50%|████▉     | 234/469 [00:02<00:02, 116.64it/s]"
     ]
    },
    {
     "name": "stdout",
     "output_type": "stream",
     "text": [
      "Step 3,500, (N samples: 448,000), Loss: 543.4289, (Recon: 543.4289, KL: 0.0000), Gradient norm: 0.8281\n"
     ]
    },
    {
     "name": "stderr",
     "output_type": "stream",
     "text": [
      " 70%|███████   | 330/469 [00:02<00:01, 117.87it/s]"
     ]
    },
    {
     "name": "stdout",
     "output_type": "stream",
     "text": [
      "Step 3,600, (N samples: 460,800), Loss: 543.4372, (Recon: 543.4371, KL: 0.0000), Gradient norm: 0.8008\n"
     ]
    },
    {
     "name": "stderr",
     "output_type": "stream",
     "text": [
      " 93%|█████████▎| 438/469 [00:03<00:00, 118.20it/s]"
     ]
    },
    {
     "name": "stdout",
     "output_type": "stream",
     "text": [
      "Step 3,700, (N samples: 473,600), Loss: 543.4410, (Recon: 543.4410, KL: 0.0000), Gradient norm: 0.7765\n"
     ]
    },
    {
     "name": "stderr",
     "output_type": "stream",
     "text": [
      "100%|██████████| 469/469 [00:04<00:00, 115.71it/s]\n",
      "Testing: 100%|██████████| 79/79 [00:00<00:00, 157.40it/s]\n"
     ]
    },
    {
     "name": "stdout",
     "output_type": "stream",
     "text": [
      "====> Test set loss: 543.4357, (BCE: 543.4357, KLD: 0.0000)\n",
      "Epoch 9/50\n"
     ]
    },
    {
     "name": "stderr",
     "output_type": "stream",
     "text": [
      " 14%|█▍        | 65/469 [00:00<00:03, 112.01it/s]"
     ]
    },
    {
     "name": "stdout",
     "output_type": "stream",
     "text": [
      "Step 3,800, (N samples: 486,400), Loss: 543.4290, (Recon: 543.4290, KL: 0.0000), Gradient norm: 0.8046\n"
     ]
    },
    {
     "name": "stderr",
     "output_type": "stream",
     "text": [
      " 34%|███▍      | 161/469 [00:01<00:02, 114.22it/s]"
     ]
    },
    {
     "name": "stdout",
     "output_type": "stream",
     "text": [
      "Step 3,900, (N samples: 499,200), Loss: 543.4448, (Recon: 543.4448, KL: 0.0000), Gradient norm: 0.8392\n"
     ]
    },
    {
     "name": "stderr",
     "output_type": "stream",
     "text": [
      " 57%|█████▋    | 269/469 [00:02<00:01, 117.54it/s]"
     ]
    },
    {
     "name": "stdout",
     "output_type": "stream",
     "text": [
      "Step 4,000, (N samples: 512,000), Loss: 543.4235, (Recon: 543.4235, KL: 0.0000), Gradient norm: 0.7875\n"
     ]
    },
    {
     "name": "stderr",
     "output_type": "stream",
     "text": [
      " 78%|███████▊  | 365/469 [00:03<00:00, 117.95it/s]"
     ]
    },
    {
     "name": "stdout",
     "output_type": "stream",
     "text": [
      "Step 4,100, (N samples: 524,800), Loss: 543.4406, (Recon: 543.4405, KL: 0.0001), Gradient norm: 0.8199\n"
     ]
    },
    {
     "name": "stderr",
     "output_type": "stream",
     "text": [
      "100%|██████████| 469/469 [00:04<00:00, 115.11it/s]\n"
     ]
    },
    {
     "name": "stdout",
     "output_type": "stream",
     "text": [
      "Step 4,200, (N samples: 537,600), Loss: 543.4417, (Recon: 543.4417, KL: 0.0000), Gradient norm: 0.8122\n"
     ]
    },
    {
     "name": "stderr",
     "output_type": "stream",
     "text": [
      "Testing: 100%|██████████| 79/79 [00:00<00:00, 157.99it/s]\n"
     ]
    },
    {
     "name": "stdout",
     "output_type": "stream",
     "text": [
      "====> Test set loss: 543.4340, (BCE: 543.4340, KLD: 0.0000)\n",
      "Epoch 10/50\n"
     ]
    },
    {
     "name": "stderr",
     "output_type": "stream",
     "text": [
      " 22%|██▏       | 103/469 [00:00<00:03, 117.31it/s]"
     ]
    },
    {
     "name": "stdout",
     "output_type": "stream",
     "text": [
      "Step 4,300, (N samples: 550,400), Loss: 543.4324, (Recon: 543.4324, KL: 0.0000), Gradient norm: 0.7531\n"
     ]
    },
    {
     "name": "stderr",
     "output_type": "stream",
     "text": [
      " 42%|████▏     | 199/469 [00:01<00:02, 118.21it/s]"
     ]
    },
    {
     "name": "stdout",
     "output_type": "stream",
     "text": [
      "Step 4,400, (N samples: 563,200), Loss: 543.4240, (Recon: 543.4240, KL: 0.0000), Gradient norm: 0.7873\n"
     ]
    },
    {
     "name": "stderr",
     "output_type": "stream",
     "text": [
      " 63%|██████▎   | 295/469 [00:02<00:01, 117.17it/s]"
     ]
    },
    {
     "name": "stdout",
     "output_type": "stream",
     "text": [
      "Step 4,500, (N samples: 576,000), Loss: 543.4376, (Recon: 543.4376, KL: 0.0000), Gradient norm: 0.7875\n"
     ]
    },
    {
     "name": "stderr",
     "output_type": "stream",
     "text": [
      " 86%|████████▌ | 403/469 [00:03<00:00, 117.28it/s]"
     ]
    },
    {
     "name": "stdout",
     "output_type": "stream",
     "text": [
      "Step 4,600, (N samples: 588,800), Loss: 543.4367, (Recon: 543.4366, KL: 0.0000), Gradient norm: 0.7995\n"
     ]
    },
    {
     "name": "stderr",
     "output_type": "stream",
     "text": [
      "100%|██████████| 469/469 [00:04<00:00, 116.22it/s]\n",
      "Testing: 100%|██████████| 79/79 [00:00<00:00, 158.83it/s]\n"
     ]
    },
    {
     "name": "stdout",
     "output_type": "stream",
     "text": [
      "====> Test set loss: 543.4355, (BCE: 543.4355, KLD: 0.0000)\n",
      "Epoch 11/50\n"
     ]
    },
    {
     "name": "stderr",
     "output_type": "stream",
     "text": [
      "  2%|▏         | 9/469 [00:00<00:05, 83.97it/s]"
     ]
    },
    {
     "name": "stdout",
     "output_type": "stream",
     "text": [
      "Step 4,700, (N samples: 601,600), Loss: 543.4393, (Recon: 543.4393, KL: 0.0000), Gradient norm: 0.7739\n"
     ]
    },
    {
     "name": "stderr",
     "output_type": "stream",
     "text": [
      " 27%|██▋       | 126/469 [00:01<00:02, 117.63it/s]"
     ]
    },
    {
     "name": "stdout",
     "output_type": "stream",
     "text": [
      "Step 4,800, (N samples: 614,400), Loss: 543.4340, (Recon: 543.4340, KL: 0.0000), Gradient norm: 0.8352\n"
     ]
    },
    {
     "name": "stderr",
     "output_type": "stream",
     "text": [
      " 50%|████▉     | 234/469 [00:02<00:02, 117.42it/s]"
     ]
    },
    {
     "name": "stdout",
     "output_type": "stream",
     "text": [
      "Step 4,900, (N samples: 627,200), Loss: 543.4312, (Recon: 543.4312, KL: 0.0000), Gradient norm: 0.8597\n"
     ]
    },
    {
     "name": "stderr",
     "output_type": "stream",
     "text": [
      " 70%|███████   | 330/469 [00:02<00:01, 117.69it/s]"
     ]
    },
    {
     "name": "stdout",
     "output_type": "stream",
     "text": [
      "Step 5,000, (N samples: 640,000), Loss: 543.4393, (Recon: 543.4392, KL: 0.0000), Gradient norm: 0.8398\n"
     ]
    },
    {
     "name": "stderr",
     "output_type": "stream",
     "text": [
      " 91%|█████████ | 426/469 [00:03<00:00, 117.12it/s]"
     ]
    },
    {
     "name": "stdout",
     "output_type": "stream",
     "text": [
      "Step 5,100, (N samples: 652,800), Loss: 543.4363, (Recon: 543.4363, KL: 0.0000), Gradient norm: 0.8154\n"
     ]
    },
    {
     "name": "stderr",
     "output_type": "stream",
     "text": [
      "100%|██████████| 469/469 [00:04<00:00, 115.65it/s]\n",
      "Testing: 100%|██████████| 79/79 [00:00<00:00, 158.56it/s]\n"
     ]
    },
    {
     "name": "stdout",
     "output_type": "stream",
     "text": [
      "====> Test set loss: 543.4352, (BCE: 543.4352, KLD: 0.0001)\n",
      "Epoch 12/50\n"
     ]
    },
    {
     "name": "stderr",
     "output_type": "stream",
     "text": [
      " 12%|█▏        | 55/469 [00:00<00:03, 112.12it/s]"
     ]
    },
    {
     "name": "stdout",
     "output_type": "stream",
     "text": [
      "Step 5,200, (N samples: 665,600), Loss: 543.4233, (Recon: 543.4233, KL: 0.0000), Gradient norm: 0.8395\n"
     ]
    },
    {
     "name": "stderr",
     "output_type": "stream",
     "text": [
      " 35%|███▍      | 163/469 [00:01<00:02, 117.05it/s]"
     ]
    },
    {
     "name": "stdout",
     "output_type": "stream",
     "text": [
      "Step 5,300, (N samples: 678,400), Loss: 543.4321, (Recon: 543.4321, KL: 0.0000), Gradient norm: 0.8141\n"
     ]
    },
    {
     "name": "stderr",
     "output_type": "stream",
     "text": [
      " 55%|█████▌    | 259/469 [00:02<00:01, 117.75it/s]"
     ]
    },
    {
     "name": "stdout",
     "output_type": "stream",
     "text": [
      "Step 5,400, (N samples: 691,200), Loss: 543.4338, (Recon: 543.4338, KL: 0.0000), Gradient norm: 0.8280\n"
     ]
    },
    {
     "name": "stderr",
     "output_type": "stream",
     "text": [
      " 76%|███████▌  | 355/469 [00:03<00:00, 118.06it/s]"
     ]
    },
    {
     "name": "stdout",
     "output_type": "stream",
     "text": [
      "Step 5,500, (N samples: 704,000), Loss: 543.4320, (Recon: 543.4320, KL: 0.0000), Gradient norm: 0.7784\n"
     ]
    },
    {
     "name": "stderr",
     "output_type": "stream",
     "text": [
      " 99%|█████████▊| 463/469 [00:03<00:00, 116.76it/s]"
     ]
    },
    {
     "name": "stdout",
     "output_type": "stream",
     "text": [
      "Step 5,600, (N samples: 716,800), Loss: 543.4337, (Recon: 543.4337, KL: 0.0000), Gradient norm: 0.8701\n"
     ]
    },
    {
     "name": "stderr",
     "output_type": "stream",
     "text": [
      "100%|██████████| 469/469 [00:04<00:00, 115.73it/s]\n",
      "Testing: 100%|██████████| 79/79 [00:00<00:00, 158.64it/s]\n"
     ]
    },
    {
     "name": "stdout",
     "output_type": "stream",
     "text": [
      "====> Test set loss: 543.4361, (BCE: 543.4361, KLD: 0.0000)\n",
      "Epoch 13/50\n"
     ]
    },
    {
     "name": "stderr",
     "output_type": "stream",
     "text": [
      " 19%|█▉        | 91/469 [00:00<00:03, 116.64it/s]"
     ]
    },
    {
     "name": "stdout",
     "output_type": "stream",
     "text": [
      "Step 5,700, (N samples: 729,600), Loss: 543.4223, (Recon: 543.4223, KL: 0.0000), Gradient norm: 0.8387\n"
     ]
    },
    {
     "name": "stderr",
     "output_type": "stream",
     "text": [
      " 40%|███▉      | 187/469 [00:01<00:02, 118.59it/s]"
     ]
    },
    {
     "name": "stdout",
     "output_type": "stream",
     "text": [
      "Step 5,800, (N samples: 742,400), Loss: 543.4503, (Recon: 543.4501, KL: 0.0001), Gradient norm: 0.8790\n"
     ]
    },
    {
     "name": "stderr",
     "output_type": "stream",
     "text": [
      " 63%|██████▎   | 295/469 [00:02<00:01, 118.80it/s]"
     ]
    },
    {
     "name": "stdout",
     "output_type": "stream",
     "text": [
      "Step 5,900, (N samples: 755,200), Loss: 543.4368, (Recon: 543.4368, KL: 0.0000), Gradient norm: 0.8615\n"
     ]
    },
    {
     "name": "stderr",
     "output_type": "stream",
     "text": [
      " 83%|████████▎ | 391/469 [00:03<00:00, 117.45it/s]"
     ]
    },
    {
     "name": "stdout",
     "output_type": "stream",
     "text": [
      "Step 6,000, (N samples: 768,000), Loss: 543.4236, (Recon: 543.4236, KL: 0.0001), Gradient norm: 0.8435\n"
     ]
    },
    {
     "name": "stderr",
     "output_type": "stream",
     "text": [
      "100%|██████████| 469/469 [00:04<00:00, 116.64it/s]\n",
      "Testing: 100%|██████████| 79/79 [00:00<00:00, 157.17it/s]\n"
     ]
    },
    {
     "name": "stdout",
     "output_type": "stream",
     "text": [
      "====> Test set loss: 543.4359, (BCE: 543.4359, KLD: 0.0000)\n",
      "Epoch 14/50\n"
     ]
    },
    {
     "name": "stderr",
     "output_type": "stream",
     "text": [
      "  2%|▏         | 9/469 [00:00<00:05, 82.87it/s]"
     ]
    },
    {
     "name": "stdout",
     "output_type": "stream",
     "text": [
      "Step 6,100, (N samples: 780,800), Loss: 543.4372, (Recon: 543.4372, KL: 0.0000), Gradient norm: 0.8545\n"
     ]
    },
    {
     "name": "stderr",
     "output_type": "stream",
     "text": [
      " 27%|██▋       | 127/469 [00:01<00:02, 117.65it/s]"
     ]
    },
    {
     "name": "stdout",
     "output_type": "stream",
     "text": [
      "Step 6,200, (N samples: 793,600), Loss: 543.4401, (Recon: 543.4401, KL: 0.0000), Gradient norm: 0.8389\n"
     ]
    },
    {
     "name": "stderr",
     "output_type": "stream",
     "text": [
      " 48%|████▊     | 223/469 [00:01<00:02, 118.60it/s]"
     ]
    },
    {
     "name": "stdout",
     "output_type": "stream",
     "text": [
      "Step 6,300, (N samples: 806,400), Loss: 543.4314, (Recon: 543.4314, KL: 0.0000), Gradient norm: 0.8855\n"
     ]
    },
    {
     "name": "stderr",
     "output_type": "stream",
     "text": [
      " 68%|██████▊   | 319/469 [00:02<00:01, 118.66it/s]"
     ]
    },
    {
     "name": "stdout",
     "output_type": "stream",
     "text": [
      "Step 6,400, (N samples: 819,200), Loss: 543.4372, (Recon: 543.4371, KL: 0.0001), Gradient norm: 0.8481\n"
     ]
    },
    {
     "name": "stderr",
     "output_type": "stream",
     "text": [
      " 91%|█████████ | 427/469 [00:03<00:00, 118.28it/s]"
     ]
    },
    {
     "name": "stdout",
     "output_type": "stream",
     "text": [
      "Step 6,500, (N samples: 832,000), Loss: 543.4346, (Recon: 543.4346, KL: 0.0000), Gradient norm: 0.8742\n"
     ]
    },
    {
     "name": "stderr",
     "output_type": "stream",
     "text": [
      "100%|██████████| 469/469 [00:04<00:00, 116.68it/s]\n",
      "Testing: 100%|██████████| 79/79 [00:00<00:00, 157.10it/s]\n"
     ]
    },
    {
     "name": "stdout",
     "output_type": "stream",
     "text": [
      "====> Test set loss: 543.4371, (BCE: 543.4370, KLD: 0.0001)\n",
      "Epoch 15/50\n"
     ]
    },
    {
     "name": "stderr",
     "output_type": "stream",
     "text": [
      " 12%|█▏        | 55/469 [00:00<00:03, 111.19it/s]"
     ]
    },
    {
     "name": "stdout",
     "output_type": "stream",
     "text": [
      "Step 6,600, (N samples: 844,800), Loss: 543.4364, (Recon: 543.4364, KL: 0.0000), Gradient norm: 0.9076\n"
     ]
    },
    {
     "name": "stderr",
     "output_type": "stream",
     "text": [
      " 32%|███▏      | 151/469 [00:01<00:02, 118.20it/s]"
     ]
    },
    {
     "name": "stdout",
     "output_type": "stream",
     "text": [
      "Step 6,700, (N samples: 857,600), Loss: 543.4344, (Recon: 543.4343, KL: 0.0001), Gradient norm: 0.8546\n"
     ]
    },
    {
     "name": "stderr",
     "output_type": "stream",
     "text": [
      " 53%|█████▎    | 247/469 [00:02<00:01, 118.67it/s]"
     ]
    },
    {
     "name": "stdout",
     "output_type": "stream",
     "text": [
      "Step 6,800, (N samples: 870,400), Loss: 543.4332, (Recon: 543.4331, KL: 0.0001), Gradient norm: 0.8282\n"
     ]
    },
    {
     "name": "stderr",
     "output_type": "stream",
     "text": [
      " 76%|███████▌  | 355/469 [00:03<00:00, 118.09it/s]"
     ]
    },
    {
     "name": "stdout",
     "output_type": "stream",
     "text": [
      "Step 6,900, (N samples: 883,200), Loss: 543.4319, (Recon: 543.4319, KL: 0.0000), Gradient norm: 0.8147\n"
     ]
    },
    {
     "name": "stderr",
     "output_type": "stream",
     "text": [
      " 96%|█████████▌| 451/469 [00:03<00:00, 117.87it/s]"
     ]
    },
    {
     "name": "stdout",
     "output_type": "stream",
     "text": [
      "Step 7,000, (N samples: 896,000), Loss: 543.4388, (Recon: 543.4388, KL: 0.0000), Gradient norm: 0.8158\n"
     ]
    },
    {
     "name": "stderr",
     "output_type": "stream",
     "text": [
      "100%|██████████| 469/469 [00:04<00:00, 116.45it/s]\n",
      "Testing: 100%|██████████| 79/79 [00:00<00:00, 112.58it/s]\n"
     ]
    },
    {
     "name": "stdout",
     "output_type": "stream",
     "text": [
      "====> Test set loss: 543.4355, (BCE: 543.4355, KLD: 0.0000)\n",
      "Epoch 16/50\n"
     ]
    },
    {
     "name": "stderr",
     "output_type": "stream",
     "text": [
      " 18%|█▊        | 84/469 [00:00<00:03, 103.57it/s]"
     ]
    },
    {
     "name": "stdout",
     "output_type": "stream",
     "text": [
      "Step 7,100, (N samples: 908,800), Loss: 543.4440, (Recon: 543.4440, KL: 0.0000), Gradient norm: 0.8222\n"
     ]
    },
    {
     "name": "stderr",
     "output_type": "stream",
     "text": [
      " 38%|███▊      | 180/469 [00:01<00:02, 117.41it/s]"
     ]
    },
    {
     "name": "stdout",
     "output_type": "stream",
     "text": [
      "Step 7,200, (N samples: 921,600), Loss: 543.4491, (Recon: 543.4491, KL: 0.0000), Gradient norm: 0.8217\n"
     ]
    },
    {
     "name": "stderr",
     "output_type": "stream",
     "text": [
      " 61%|██████▏   | 288/469 [00:02<00:01, 117.78it/s]"
     ]
    },
    {
     "name": "stdout",
     "output_type": "stream",
     "text": [
      "Step 7,300, (N samples: 934,400), Loss: 543.4427, (Recon: 543.4426, KL: 0.0001), Gradient norm: 0.8760\n"
     ]
    },
    {
     "name": "stderr",
     "output_type": "stream",
     "text": [
      " 82%|████████▏ | 384/469 [00:03<00:00, 118.58it/s]"
     ]
    },
    {
     "name": "stdout",
     "output_type": "stream",
     "text": [
      "Step 7,400, (N samples: 947,200), Loss: 543.4419, (Recon: 543.4419, KL: 0.0000), Gradient norm: 0.8451\n"
     ]
    },
    {
     "name": "stderr",
     "output_type": "stream",
     "text": [
      "100%|██████████| 469/469 [00:04<00:00, 111.31it/s]\n"
     ]
    },
    {
     "name": "stdout",
     "output_type": "stream",
     "text": [
      "Step 7,500, (N samples: 960,000), Loss: 543.4275, (Recon: 543.4275, KL: 0.0000), Gradient norm: 0.8779\n"
     ]
    },
    {
     "name": "stderr",
     "output_type": "stream",
     "text": [
      "Testing: 100%|██████████| 79/79 [00:00<00:00, 158.70it/s]\n"
     ]
    },
    {
     "name": "stdout",
     "output_type": "stream",
     "text": [
      "====> Test set loss: 543.4368, (BCE: 543.4368, KLD: 0.0000)\n",
      "Epoch 17/50\n"
     ]
    },
    {
     "name": "stderr",
     "output_type": "stream",
     "text": [
      " 25%|██▍       | 115/469 [00:01<00:03, 117.32it/s]"
     ]
    },
    {
     "name": "stdout",
     "output_type": "stream",
     "text": [
      "Step 7,600, (N samples: 972,800), Loss: 543.4515, (Recon: 543.4515, KL: 0.0000), Gradient norm: 0.8859\n"
     ]
    },
    {
     "name": "stderr",
     "output_type": "stream",
     "text": [
      " 45%|████▍     | 211/469 [00:01<00:02, 118.11it/s]"
     ]
    },
    {
     "name": "stdout",
     "output_type": "stream",
     "text": [
      "Step 7,700, (N samples: 985,600), Loss: 543.4368, (Recon: 543.4368, KL: 0.0001), Gradient norm: 0.8477\n"
     ]
    },
    {
     "name": "stderr",
     "output_type": "stream",
     "text": [
      " 68%|██████▊   | 319/469 [00:02<00:01, 118.62it/s]"
     ]
    },
    {
     "name": "stdout",
     "output_type": "stream",
     "text": [
      "Step 7,800, (N samples: 998,400), Loss: 543.4301, (Recon: 543.4301, KL: 0.0000), Gradient norm: 0.8253\n"
     ]
    },
    {
     "name": "stderr",
     "output_type": "stream",
     "text": [
      " 88%|████████▊ | 415/469 [00:03<00:00, 114.66it/s]"
     ]
    },
    {
     "name": "stdout",
     "output_type": "stream",
     "text": [
      "Step 7,900, (N samples: 1,011,200), Loss: 543.4404, (Recon: 543.4404, KL: 0.0000), Gradient norm: 0.8751\n"
     ]
    },
    {
     "name": "stderr",
     "output_type": "stream",
     "text": [
      "100%|██████████| 469/469 [00:04<00:00, 116.02it/s]\n",
      "Testing: 100%|██████████| 79/79 [00:00<00:00, 159.04it/s]\n"
     ]
    },
    {
     "name": "stdout",
     "output_type": "stream",
     "text": [
      "====> Test set loss: 543.4376, (BCE: 543.4376, KLD: 0.0000)\n",
      "Epoch 18/50\n"
     ]
    },
    {
     "name": "stderr",
     "output_type": "stream",
     "text": [
      "  9%|▉         | 43/469 [00:00<00:04, 106.39it/s]"
     ]
    },
    {
     "name": "stdout",
     "output_type": "stream",
     "text": [
      "Step 8,000, (N samples: 1,024,000), Loss: 543.4418, (Recon: 543.4418, KL: 0.0000), Gradient norm: 0.8267\n"
     ]
    },
    {
     "name": "stderr",
     "output_type": "stream",
     "text": [
      " 32%|███▏      | 151/469 [00:01<00:02, 116.35it/s]"
     ]
    },
    {
     "name": "stdout",
     "output_type": "stream",
     "text": [
      "Step 8,100, (N samples: 1,036,800), Loss: 543.4243, (Recon: 543.4243, KL: 0.0000), Gradient norm: 0.8554\n"
     ]
    },
    {
     "name": "stderr",
     "output_type": "stream",
     "text": [
      " 53%|█████▎    | 247/469 [00:02<00:01, 117.85it/s]"
     ]
    },
    {
     "name": "stdout",
     "output_type": "stream",
     "text": [
      "Step 8,200, (N samples: 1,049,600), Loss: 543.4362, (Recon: 543.4362, KL: 0.0000), Gradient norm: 0.8690\n"
     ]
    },
    {
     "name": "stderr",
     "output_type": "stream",
     "text": [
      " 73%|███████▎  | 343/469 [00:02<00:01, 117.95it/s]"
     ]
    },
    {
     "name": "stdout",
     "output_type": "stream",
     "text": [
      "Step 8,300, (N samples: 1,062,400), Loss: 543.4329, (Recon: 543.4324, KL: 0.0006), Gradient norm: 0.8851\n"
     ]
    },
    {
     "name": "stderr",
     "output_type": "stream",
     "text": [
      " 96%|█████████▌| 451/469 [00:03<00:00, 118.60it/s]"
     ]
    },
    {
     "name": "stdout",
     "output_type": "stream",
     "text": [
      "Step 8,400, (N samples: 1,075,200), Loss: 543.4354, (Recon: 543.4354, KL: 0.0000), Gradient norm: 0.8488\n"
     ]
    },
    {
     "name": "stderr",
     "output_type": "stream",
     "text": [
      "100%|██████████| 469/469 [00:04<00:00, 115.92it/s]\n",
      "Testing: 100%|██████████| 79/79 [00:00<00:00, 158.68it/s]\n"
     ]
    },
    {
     "name": "stdout",
     "output_type": "stream",
     "text": [
      "====> Test set loss: 543.4362, (BCE: 543.4362, KLD: 0.0000)\n",
      "Epoch 19/50\n"
     ]
    },
    {
     "name": "stderr",
     "output_type": "stream",
     "text": [
      " 17%|█▋        | 79/469 [00:00<00:03, 115.56it/s]"
     ]
    },
    {
     "name": "stdout",
     "output_type": "stream",
     "text": [
      "Step 8,500, (N samples: 1,088,000), Loss: 543.4500, (Recon: 543.4500, KL: 0.0000), Gradient norm: 0.8618\n"
     ]
    },
    {
     "name": "stderr",
     "output_type": "stream",
     "text": [
      " 37%|███▋      | 175/469 [00:01<00:02, 118.36it/s]"
     ]
    },
    {
     "name": "stdout",
     "output_type": "stream",
     "text": [
      "Step 8,600, (N samples: 1,100,800), Loss: 543.4263, (Recon: 543.4263, KL: 0.0000), Gradient norm: 0.8422\n"
     ]
    },
    {
     "name": "stderr",
     "output_type": "stream",
     "text": [
      " 58%|█████▊    | 271/469 [00:02<00:01, 118.43it/s]"
     ]
    },
    {
     "name": "stdout",
     "output_type": "stream",
     "text": [
      "Step 8,700, (N samples: 1,113,600), Loss: 543.4363, (Recon: 543.4363, KL: 0.0000), Gradient norm: 0.8683\n"
     ]
    },
    {
     "name": "stderr",
     "output_type": "stream",
     "text": [
      " 81%|████████  | 379/469 [00:03<00:00, 118.46it/s]"
     ]
    },
    {
     "name": "stdout",
     "output_type": "stream",
     "text": [
      "Step 8,800, (N samples: 1,126,400), Loss: 543.4340, (Recon: 543.4340, KL: 0.0000), Gradient norm: 0.8053\n"
     ]
    },
    {
     "name": "stderr",
     "output_type": "stream",
     "text": [
      "100%|██████████| 469/469 [00:04<00:00, 116.70it/s]\n"
     ]
    },
    {
     "name": "stdout",
     "output_type": "stream",
     "text": [
      "Step 8,900, (N samples: 1,139,200), Loss: 543.4443, (Recon: 543.4443, KL: 0.0000), Gradient norm: 0.8909\n"
     ]
    },
    {
     "name": "stderr",
     "output_type": "stream",
     "text": [
      "Testing: 100%|██████████| 79/79 [00:00<00:00, 159.14it/s]\n"
     ]
    },
    {
     "name": "stdout",
     "output_type": "stream",
     "text": [
      "====> Test set loss: 543.4354, (BCE: 543.4354, KLD: 0.0000)\n",
      "Epoch 20/50\n"
     ]
    },
    {
     "name": "stderr",
     "output_type": "stream",
     "text": [
      " 22%|██▏       | 103/469 [00:00<00:03, 117.26it/s]"
     ]
    },
    {
     "name": "stdout",
     "output_type": "stream",
     "text": [
      "Step 9,000, (N samples: 1,152,000), Loss: 543.4402, (Recon: 543.4402, KL: 0.0000), Gradient norm: 0.7998\n"
     ]
    },
    {
     "name": "stderr",
     "output_type": "stream",
     "text": [
      " 45%|████▍     | 211/469 [00:01<00:02, 118.46it/s]"
     ]
    },
    {
     "name": "stdout",
     "output_type": "stream",
     "text": [
      "Step 9,100, (N samples: 1,164,800), Loss: 543.4340, (Recon: 543.4340, KL: 0.0000), Gradient norm: 0.8462\n"
     ]
    },
    {
     "name": "stderr",
     "output_type": "stream",
     "text": [
      " 65%|██████▌   | 307/469 [00:02<00:01, 118.43it/s]"
     ]
    },
    {
     "name": "stdout",
     "output_type": "stream",
     "text": [
      "Step 9,200, (N samples: 1,177,600), Loss: 543.4327, (Recon: 543.4327, KL: 0.0000), Gradient norm: 0.8589\n"
     ]
    },
    {
     "name": "stderr",
     "output_type": "stream",
     "text": [
      " 86%|████████▌ | 403/469 [00:03<00:00, 118.62it/s]"
     ]
    },
    {
     "name": "stdout",
     "output_type": "stream",
     "text": [
      "Step 9,300, (N samples: 1,190,400), Loss: 543.4387, (Recon: 543.4387, KL: 0.0000), Gradient norm: 0.8810\n"
     ]
    },
    {
     "name": "stderr",
     "output_type": "stream",
     "text": [
      "100%|██████████| 469/469 [00:04<00:00, 116.85it/s]\n",
      "Testing: 100%|██████████| 79/79 [00:00<00:00, 158.93it/s]\n"
     ]
    },
    {
     "name": "stdout",
     "output_type": "stream",
     "text": [
      "====> Test set loss: 543.4365, (BCE: 543.4365, KLD: 0.0000)\n",
      "Epoch 21/50\n"
     ]
    },
    {
     "name": "stderr",
     "output_type": "stream",
     "text": [
      "  9%|▉         | 43/469 [00:00<00:03, 108.46it/s]"
     ]
    },
    {
     "name": "stdout",
     "output_type": "stream",
     "text": [
      "Step 9,400, (N samples: 1,203,200), Loss: 543.4474, (Recon: 543.4474, KL: 0.0000), Gradient norm: 0.8570\n"
     ]
    },
    {
     "name": "stderr",
     "output_type": "stream",
     "text": [
      " 30%|██▉       | 139/469 [00:01<00:02, 118.22it/s]"
     ]
    },
    {
     "name": "stdout",
     "output_type": "stream",
     "text": [
      "Step 9,500, (N samples: 1,216,000), Loss: 543.4393, (Recon: 543.4393, KL: 0.0000), Gradient norm: 0.8939\n"
     ]
    },
    {
     "name": "stderr",
     "output_type": "stream",
     "text": [
      " 50%|█████     | 235/469 [00:02<00:01, 118.38it/s]"
     ]
    },
    {
     "name": "stdout",
     "output_type": "stream",
     "text": [
      "Step 9,600, (N samples: 1,228,800), Loss: 543.4313, (Recon: 543.4313, KL: 0.0000), Gradient norm: 0.8975\n"
     ]
    },
    {
     "name": "stderr",
     "output_type": "stream",
     "text": [
      " 73%|███████▎  | 343/469 [00:02<00:01, 118.48it/s]"
     ]
    },
    {
     "name": "stdout",
     "output_type": "stream",
     "text": [
      "Step 9,700, (N samples: 1,241,600), Loss: 543.4329, (Recon: 543.4329, KL: 0.0000), Gradient norm: 0.8574\n"
     ]
    },
    {
     "name": "stderr",
     "output_type": "stream",
     "text": [
      " 94%|█████████▎| 439/469 [00:03<00:00, 118.64it/s]"
     ]
    },
    {
     "name": "stdout",
     "output_type": "stream",
     "text": [
      "Step 9,800, (N samples: 1,254,400), Loss: 543.4366, (Recon: 543.4366, KL: 0.0000), Gradient norm: 0.8874\n"
     ]
    },
    {
     "name": "stderr",
     "output_type": "stream",
     "text": [
      "100%|██████████| 469/469 [00:04<00:00, 116.88it/s]\n",
      "Testing: 100%|██████████| 79/79 [00:00<00:00, 158.52it/s]\n"
     ]
    },
    {
     "name": "stdout",
     "output_type": "stream",
     "text": [
      "====> Test set loss: 543.4357, (BCE: 543.4357, KLD: 0.0000)\n",
      "Epoch 22/50\n"
     ]
    },
    {
     "name": "stderr",
     "output_type": "stream",
     "text": [
      " 14%|█▍        | 67/469 [00:00<00:03, 114.10it/s]"
     ]
    },
    {
     "name": "stdout",
     "output_type": "stream",
     "text": [
      "Step 9,900, (N samples: 1,267,200), Loss: 543.4341, (Recon: 543.4341, KL: 0.0000), Gradient norm: 0.8780\n"
     ]
    },
    {
     "name": "stderr",
     "output_type": "stream",
     "text": [
      " 37%|███▋      | 175/469 [00:01<00:02, 118.37it/s]"
     ]
    },
    {
     "name": "stdout",
     "output_type": "stream",
     "text": [
      "Step 10,000, (N samples: 1,280,000), Loss: 543.4362, (Recon: 543.4362, KL: 0.0000), Gradient norm: 0.8810\n"
     ]
    },
    {
     "name": "stderr",
     "output_type": "stream",
     "text": [
      " 58%|█████▊    | 271/469 [00:02<00:01, 118.58it/s]"
     ]
    },
    {
     "name": "stdout",
     "output_type": "stream",
     "text": [
      "Step 10,100, (N samples: 1,292,800), Loss: 543.4390, (Recon: 543.4390, KL: 0.0000), Gradient norm: 0.8286\n"
     ]
    },
    {
     "name": "stderr",
     "output_type": "stream",
     "text": [
      " 78%|███████▊  | 367/469 [00:03<00:00, 118.50it/s]"
     ]
    },
    {
     "name": "stdout",
     "output_type": "stream",
     "text": [
      "Step 10,200, (N samples: 1,305,600), Loss: 543.4402, (Recon: 543.4402, KL: 0.0000), Gradient norm: 0.8897\n"
     ]
    },
    {
     "name": "stderr",
     "output_type": "stream",
     "text": [
      "100%|██████████| 469/469 [00:04<00:00, 116.77it/s]\n"
     ]
    },
    {
     "name": "stdout",
     "output_type": "stream",
     "text": [
      "Step 10,300, (N samples: 1,318,400), Loss: 543.4280, (Recon: 543.4280, KL: 0.0000), Gradient norm: 0.8536\n"
     ]
    },
    {
     "name": "stderr",
     "output_type": "stream",
     "text": [
      "Testing: 100%|██████████| 79/79 [00:00<00:00, 158.86it/s]\n"
     ]
    },
    {
     "name": "stdout",
     "output_type": "stream",
     "text": [
      "====> Test set loss: 543.4364, (BCE: 543.4364, KLD: 0.0000)\n",
      "Epoch 23/50\n"
     ]
    },
    {
     "name": "stderr",
     "output_type": "stream",
     "text": [
      " 22%|██▏       | 103/469 [00:00<00:03, 116.70it/s]"
     ]
    },
    {
     "name": "stdout",
     "output_type": "stream",
     "text": [
      "Step 10,400, (N samples: 1,331,200), Loss: 543.4327, (Recon: 543.4327, KL: 0.0000), Gradient norm: 0.8860\n"
     ]
    },
    {
     "name": "stderr",
     "output_type": "stream",
     "text": [
      " 42%|████▏     | 199/469 [00:01<00:02, 118.50it/s]"
     ]
    },
    {
     "name": "stdout",
     "output_type": "stream",
     "text": [
      "Step 10,500, (N samples: 1,344,000), Loss: 543.4246, (Recon: 543.4246, KL: 0.0000), Gradient norm: 0.8575\n"
     ]
    },
    {
     "name": "stderr",
     "output_type": "stream",
     "text": [
      " 63%|██████▎   | 295/469 [00:02<00:01, 118.69it/s]"
     ]
    },
    {
     "name": "stdout",
     "output_type": "stream",
     "text": [
      "Step 10,600, (N samples: 1,356,800), Loss: 543.4368, (Recon: 543.4368, KL: 0.0000), Gradient norm: 0.8605\n"
     ]
    },
    {
     "name": "stderr",
     "output_type": "stream",
     "text": [
      " 86%|████████▌ | 403/469 [00:03<00:00, 118.46it/s]"
     ]
    },
    {
     "name": "stdout",
     "output_type": "stream",
     "text": [
      "Step 10,700, (N samples: 1,369,600), Loss: 543.4252, (Recon: 543.4252, KL: 0.0000), Gradient norm: 0.8464\n"
     ]
    },
    {
     "name": "stderr",
     "output_type": "stream",
     "text": [
      "100%|██████████| 469/469 [00:04<00:00, 116.72it/s]\n",
      "Testing: 100%|██████████| 79/79 [00:00<00:00, 159.02it/s]\n"
     ]
    },
    {
     "name": "stdout",
     "output_type": "stream",
     "text": [
      "====> Test set loss: 543.4362, (BCE: 543.4362, KLD: 0.0000)\n",
      "Epoch 24/50\n"
     ]
    },
    {
     "name": "stderr",
     "output_type": "stream",
     "text": [
      "  2%|▏         | 9/469 [00:00<00:05, 84.22it/s]"
     ]
    },
    {
     "name": "stdout",
     "output_type": "stream",
     "text": [
      "Step 10,800, (N samples: 1,382,400), Loss: 543.4493, (Recon: 543.4493, KL: 0.0000), Gradient norm: 0.9000\n"
     ]
    },
    {
     "name": "stderr",
     "output_type": "stream",
     "text": [
      " 27%|██▋       | 126/469 [00:01<00:02, 118.09it/s]"
     ]
    },
    {
     "name": "stdout",
     "output_type": "stream",
     "text": [
      "Step 10,900, (N samples: 1,395,200), Loss: 543.4293, (Recon: 543.4293, KL: 0.0000), Gradient norm: 0.8655\n"
     ]
    },
    {
     "name": "stderr",
     "output_type": "stream",
     "text": [
      " 50%|████▉     | 234/469 [00:02<00:01, 118.60it/s]"
     ]
    },
    {
     "name": "stdout",
     "output_type": "stream",
     "text": [
      "Step 11,000, (N samples: 1,408,000), Loss: 543.4413, (Recon: 543.4413, KL: 0.0000), Gradient norm: 0.8931\n"
     ]
    },
    {
     "name": "stderr",
     "output_type": "stream",
     "text": [
      " 70%|███████   | 330/469 [00:02<00:01, 118.66it/s]"
     ]
    },
    {
     "name": "stdout",
     "output_type": "stream",
     "text": [
      "Step 11,100, (N samples: 1,420,800), Loss: 543.4366, (Recon: 543.4366, KL: 0.0000), Gradient norm: 0.8964\n"
     ]
    },
    {
     "name": "stderr",
     "output_type": "stream",
     "text": [
      " 91%|█████████ | 426/469 [00:03<00:00, 118.23it/s]"
     ]
    },
    {
     "name": "stdout",
     "output_type": "stream",
     "text": [
      "Step 11,200, (N samples: 1,433,600), Loss: 543.4304, (Recon: 543.4304, KL: 0.0000), Gradient norm: 0.8916\n"
     ]
    },
    {
     "name": "stderr",
     "output_type": "stream",
     "text": [
      "100%|██████████| 469/469 [00:04<00:00, 116.89it/s]\n",
      "Testing: 100%|██████████| 79/79 [00:00<00:00, 158.12it/s]\n"
     ]
    },
    {
     "name": "stdout",
     "output_type": "stream",
     "text": [
      "====> Test set loss: 543.4375, (BCE: 543.4375, KLD: 0.0000)\n",
      "Epoch 25/50\n"
     ]
    },
    {
     "name": "stderr",
     "output_type": "stream",
     "text": [
      " 14%|█▍        | 67/469 [00:00<00:03, 113.25it/s]"
     ]
    },
    {
     "name": "stdout",
     "output_type": "stream",
     "text": [
      "Step 11,300, (N samples: 1,446,400), Loss: 543.4337, (Recon: 543.4337, KL: 0.0000), Gradient norm: 0.8584\n"
     ]
    },
    {
     "name": "stderr",
     "output_type": "stream",
     "text": [
      " 35%|███▍      | 163/469 [00:01<00:02, 118.18it/s]"
     ]
    },
    {
     "name": "stdout",
     "output_type": "stream",
     "text": [
      "Step 11,400, (N samples: 1,459,200), Loss: 543.4434, (Recon: 543.4434, KL: 0.0000), Gradient norm: 0.9268\n"
     ]
    },
    {
     "name": "stderr",
     "output_type": "stream",
     "text": [
      " 55%|█████▌    | 259/469 [00:02<00:01, 118.27it/s]"
     ]
    },
    {
     "name": "stdout",
     "output_type": "stream",
     "text": [
      "Step 11,500, (N samples: 1,472,000), Loss: 543.4371, (Recon: 543.4371, KL: 0.0000), Gradient norm: 0.8725\n"
     ]
    },
    {
     "name": "stderr",
     "output_type": "stream",
     "text": [
      " 78%|███████▊  | 367/469 [00:03<00:00, 118.62it/s]"
     ]
    },
    {
     "name": "stdout",
     "output_type": "stream",
     "text": [
      "Step 11,600, (N samples: 1,484,800), Loss: 543.4283, (Recon: 543.4283, KL: 0.0000), Gradient norm: 0.8409\n"
     ]
    },
    {
     "name": "stderr",
     "output_type": "stream",
     "text": [
      " 99%|█████████▊| 463/469 [00:03<00:00, 118.53it/s]"
     ]
    },
    {
     "name": "stdout",
     "output_type": "stream",
     "text": [
      "Step 11,700, (N samples: 1,497,600), Loss: 543.4456, (Recon: 543.4456, KL: 0.0000), Gradient norm: 0.8868\n"
     ]
    },
    {
     "name": "stderr",
     "output_type": "stream",
     "text": [
      "100%|██████████| 469/469 [00:04<00:00, 116.60it/s]\n",
      "Testing: 100%|██████████| 79/79 [00:00<00:00, 158.80it/s]\n"
     ]
    },
    {
     "name": "stdout",
     "output_type": "stream",
     "text": [
      "====> Test set loss: 543.4357, (BCE: 543.4357, KLD: 0.0000)\n",
      "Epoch 26/50\n"
     ]
    },
    {
     "name": "stderr",
     "output_type": "stream",
     "text": [
      " 19%|█▉        | 91/469 [00:00<00:03, 116.33it/s]"
     ]
    },
    {
     "name": "stdout",
     "output_type": "stream",
     "text": [
      "Step 11,800, (N samples: 1,510,400), Loss: 543.4316, (Recon: 543.4316, KL: 0.0000), Gradient norm: 0.8737\n"
     ]
    },
    {
     "name": "stderr",
     "output_type": "stream",
     "text": [
      " 42%|████▏     | 199/469 [00:01<00:02, 118.59it/s]"
     ]
    },
    {
     "name": "stdout",
     "output_type": "stream",
     "text": [
      "Step 11,900, (N samples: 1,523,200), Loss: 543.4292, (Recon: 543.4292, KL: 0.0000), Gradient norm: 0.8795\n"
     ]
    },
    {
     "name": "stderr",
     "output_type": "stream",
     "text": [
      " 63%|██████▎   | 295/469 [00:02<00:01, 118.38it/s]"
     ]
    },
    {
     "name": "stdout",
     "output_type": "stream",
     "text": [
      "Step 12,000, (N samples: 1,536,000), Loss: 543.4466, (Recon: 543.4466, KL: 0.0000), Gradient norm: 0.9019\n"
     ]
    },
    {
     "name": "stderr",
     "output_type": "stream",
     "text": [
      " 83%|████████▎ | 391/469 [00:03<00:00, 118.62it/s]"
     ]
    },
    {
     "name": "stdout",
     "output_type": "stream",
     "text": [
      "Step 12,100, (N samples: 1,548,800), Loss: 543.4333, (Recon: 543.4333, KL: 0.0000), Gradient norm: 0.8568\n"
     ]
    },
    {
     "name": "stderr",
     "output_type": "stream",
     "text": [
      "100%|██████████| 469/469 [00:04<00:00, 116.87it/s]\n",
      "Testing: 100%|██████████| 79/79 [00:00<00:00, 158.47it/s]\n"
     ]
    },
    {
     "name": "stdout",
     "output_type": "stream",
     "text": [
      "====> Test set loss: 543.4355, (BCE: 543.4355, KLD: 0.0000)\n",
      "Epoch 27/50\n"
     ]
    },
    {
     "name": "stderr",
     "output_type": "stream",
     "text": [
      "  2%|▏         | 9/469 [00:00<00:05, 82.39it/s]"
     ]
    },
    {
     "name": "stdout",
     "output_type": "stream",
     "text": [
      "Step 12,200, (N samples: 1,561,600), Loss: 543.4452, (Recon: 543.4452, KL: 0.0000), Gradient norm: 0.8973\n"
     ]
    },
    {
     "name": "stderr",
     "output_type": "stream",
     "text": [
      " 27%|██▋       | 127/469 [00:01<00:02, 117.71it/s]"
     ]
    },
    {
     "name": "stdout",
     "output_type": "stream",
     "text": [
      "Step 12,300, (N samples: 1,574,400), Loss: 543.4387, (Recon: 543.4387, KL: 0.0000), Gradient norm: 0.9123\n"
     ]
    },
    {
     "name": "stderr",
     "output_type": "stream",
     "text": [
      " 48%|████▊     | 223/469 [00:01<00:02, 118.57it/s]"
     ]
    },
    {
     "name": "stdout",
     "output_type": "stream",
     "text": [
      "Step 12,400, (N samples: 1,587,200), Loss: 543.4410, (Recon: 543.4410, KL: 0.0000), Gradient norm: 0.9245\n"
     ]
    },
    {
     "name": "stderr",
     "output_type": "stream",
     "text": [
      " 68%|██████▊   | 319/469 [00:02<00:01, 118.57it/s]"
     ]
    },
    {
     "name": "stdout",
     "output_type": "stream",
     "text": [
      "Step 12,500, (N samples: 1,600,000), Loss: 543.4349, (Recon: 543.4349, KL: 0.0000), Gradient norm: 0.9137\n"
     ]
    },
    {
     "name": "stderr",
     "output_type": "stream",
     "text": [
      " 91%|█████████ | 427/469 [00:03<00:00, 118.12it/s]"
     ]
    },
    {
     "name": "stdout",
     "output_type": "stream",
     "text": [
      "Step 12,600, (N samples: 1,612,800), Loss: 543.4396, (Recon: 543.4396, KL: 0.0000), Gradient norm: 0.8790\n"
     ]
    },
    {
     "name": "stderr",
     "output_type": "stream",
     "text": [
      "100%|██████████| 469/469 [00:04<00:00, 116.66it/s]\n",
      "Testing: 100%|██████████| 79/79 [00:00<00:00, 159.06it/s]\n"
     ]
    },
    {
     "name": "stdout",
     "output_type": "stream",
     "text": [
      "====> Test set loss: 543.4371, (BCE: 543.4371, KLD: 0.0000)\n",
      "Epoch 28/50\n"
     ]
    },
    {
     "name": "stderr",
     "output_type": "stream",
     "text": [
      " 12%|█▏        | 55/469 [00:00<00:03, 112.15it/s]"
     ]
    },
    {
     "name": "stdout",
     "output_type": "stream",
     "text": [
      "Step 12,700, (N samples: 1,625,600), Loss: 543.4403, (Recon: 543.4403, KL: 0.0000), Gradient norm: 0.9600\n"
     ]
    },
    {
     "name": "stderr",
     "output_type": "stream",
     "text": [
      " 32%|███▏      | 151/469 [00:01<00:02, 118.26it/s]"
     ]
    },
    {
     "name": "stdout",
     "output_type": "stream",
     "text": [
      "Step 12,800, (N samples: 1,638,400), Loss: 543.4468, (Recon: 543.4468, KL: 0.0000), Gradient norm: 0.9198\n"
     ]
    },
    {
     "name": "stderr",
     "output_type": "stream",
     "text": [
      " 55%|█████▌    | 259/469 [00:02<00:01, 118.49it/s]"
     ]
    },
    {
     "name": "stdout",
     "output_type": "stream",
     "text": [
      "Step 12,900, (N samples: 1,651,200), Loss: 543.4374, (Recon: 543.4374, KL: 0.0000), Gradient norm: 0.9416\n"
     ]
    },
    {
     "name": "stderr",
     "output_type": "stream",
     "text": [
      " 76%|███████▌  | 355/469 [00:03<00:00, 118.68it/s]"
     ]
    },
    {
     "name": "stdout",
     "output_type": "stream",
     "text": [
      "Step 13,000, (N samples: 1,664,000), Loss: 543.4232, (Recon: 543.4232, KL: 0.0000), Gradient norm: 0.9235\n"
     ]
    },
    {
     "name": "stderr",
     "output_type": "stream",
     "text": [
      " 96%|█████████▌| 451/469 [00:03<00:00, 118.42it/s]"
     ]
    },
    {
     "name": "stdout",
     "output_type": "stream",
     "text": [
      "Step 13,100, (N samples: 1,676,800), Loss: 543.4366, (Recon: 543.4366, KL: 0.0000), Gradient norm: 0.8365\n"
     ]
    },
    {
     "name": "stderr",
     "output_type": "stream",
     "text": [
      "100%|██████████| 469/469 [00:04<00:00, 116.80it/s]\n",
      "Testing: 100%|██████████| 79/79 [00:00<00:00, 158.81it/s]\n"
     ]
    },
    {
     "name": "stdout",
     "output_type": "stream",
     "text": [
      "====> Test set loss: 543.4371, (BCE: 543.4371, KLD: 0.0000)\n",
      "Epoch 29/50\n"
     ]
    },
    {
     "name": "stderr",
     "output_type": "stream",
     "text": [
      " 19%|█▉        | 91/469 [00:00<00:03, 116.60it/s]"
     ]
    },
    {
     "name": "stdout",
     "output_type": "stream",
     "text": [
      "Step 13,200, (N samples: 1,689,600), Loss: 543.4431, (Recon: 543.4431, KL: 0.0000), Gradient norm: 0.8748\n"
     ]
    },
    {
     "name": "stderr",
     "output_type": "stream",
     "text": [
      " 40%|███▉      | 187/469 [00:01<00:02, 118.13it/s]"
     ]
    },
    {
     "name": "stdout",
     "output_type": "stream",
     "text": [
      "Step 13,300, (N samples: 1,702,400), Loss: 543.4451, (Recon: 543.4451, KL: 0.0000), Gradient norm: 0.8941\n"
     ]
    },
    {
     "name": "stderr",
     "output_type": "stream",
     "text": [
      " 60%|██████    | 283/469 [00:02<00:01, 118.38it/s]"
     ]
    },
    {
     "name": "stdout",
     "output_type": "stream",
     "text": [
      "Step 13,400, (N samples: 1,715,200), Loss: 543.4330, (Recon: 543.4330, KL: 0.0000), Gradient norm: 0.8429\n"
     ]
    },
    {
     "name": "stderr",
     "output_type": "stream",
     "text": [
      " 83%|████████▎ | 391/469 [00:03<00:00, 118.61it/s]"
     ]
    },
    {
     "name": "stdout",
     "output_type": "stream",
     "text": [
      "Step 13,500, (N samples: 1,728,000), Loss: 543.4341, (Recon: 543.4341, KL: 0.0000), Gradient norm: 0.9109\n"
     ]
    },
    {
     "name": "stderr",
     "output_type": "stream",
     "text": [
      "100%|██████████| 469/469 [00:04<00:00, 116.75it/s]\n"
     ]
    },
    {
     "name": "stdout",
     "output_type": "stream",
     "text": [
      "Step 13,600, (N samples: 1,740,800), Loss: 543.4441, (Recon: 543.4441, KL: 0.0000), Gradient norm: 1.0443\n"
     ]
    },
    {
     "name": "stderr",
     "output_type": "stream",
     "text": [
      "Testing: 100%|██████████| 79/79 [00:00<00:00, 159.25it/s]\n"
     ]
    },
    {
     "name": "stdout",
     "output_type": "stream",
     "text": [
      "====> Test set loss: 543.4374, (BCE: 543.4374, KLD: 0.0000)\n",
      "Epoch 30/50\n"
     ]
    },
    {
     "name": "stderr",
     "output_type": "stream",
     "text": [
      " 25%|██▍       | 115/469 [00:01<00:03, 117.68it/s]"
     ]
    },
    {
     "name": "stdout",
     "output_type": "stream",
     "text": [
      "Step 13,700, (N samples: 1,753,600), Loss: 543.4158, (Recon: 543.4158, KL: 0.0000), Gradient norm: 0.8651\n"
     ]
    },
    {
     "name": "stderr",
     "output_type": "stream",
     "text": [
      " 48%|████▊     | 223/469 [00:01<00:02, 118.16it/s]"
     ]
    },
    {
     "name": "stdout",
     "output_type": "stream",
     "text": [
      "Step 13,800, (N samples: 1,766,400), Loss: 543.4442, (Recon: 543.4442, KL: 0.0000), Gradient norm: 0.9239\n"
     ]
    },
    {
     "name": "stderr",
     "output_type": "stream",
     "text": [
      " 68%|██████▊   | 319/469 [00:02<00:01, 118.39it/s]"
     ]
    },
    {
     "name": "stdout",
     "output_type": "stream",
     "text": [
      "Step 13,900, (N samples: 1,779,200), Loss: 543.4465, (Recon: 543.4465, KL: 0.0000), Gradient norm: 0.9564\n"
     ]
    },
    {
     "name": "stderr",
     "output_type": "stream",
     "text": [
      " 88%|████████▊ | 415/469 [00:03<00:00, 118.51it/s]"
     ]
    },
    {
     "name": "stdout",
     "output_type": "stream",
     "text": [
      "Step 14,000, (N samples: 1,792,000), Loss: 543.4471, (Recon: 543.4471, KL: 0.0000), Gradient norm: 0.9225\n"
     ]
    },
    {
     "name": "stderr",
     "output_type": "stream",
     "text": [
      "100%|██████████| 469/469 [00:04<00:00, 116.83it/s]\n",
      "Testing: 100%|██████████| 79/79 [00:00<00:00, 158.82it/s]\n"
     ]
    },
    {
     "name": "stdout",
     "output_type": "stream",
     "text": [
      "====> Test set loss: 543.4378, (BCE: 543.4378, KLD: 0.0000)\n",
      "Epoch 31/50\n"
     ]
    },
    {
     "name": "stderr",
     "output_type": "stream",
     "text": [
      "  9%|▉         | 43/469 [00:00<00:03, 108.20it/s]"
     ]
    },
    {
     "name": "stdout",
     "output_type": "stream",
     "text": [
      "Step 14,100, (N samples: 1,804,800), Loss: 543.4316, (Recon: 543.4316, KL: 0.0000), Gradient norm: 0.9923\n"
     ]
    },
    {
     "name": "stderr",
     "output_type": "stream",
     "text": [
      " 32%|███▏      | 151/469 [00:01<00:02, 117.64it/s]"
     ]
    },
    {
     "name": "stdout",
     "output_type": "stream",
     "text": [
      "Step 14,200, (N samples: 1,817,600), Loss: 543.4361, (Recon: 543.4361, KL: 0.0000), Gradient norm: 0.8902\n"
     ]
    },
    {
     "name": "stderr",
     "output_type": "stream",
     "text": [
      " 53%|█████▎    | 247/469 [00:02<00:01, 117.95it/s]"
     ]
    },
    {
     "name": "stdout",
     "output_type": "stream",
     "text": [
      "Step 14,300, (N samples: 1,830,400), Loss: 543.4358, (Recon: 543.4358, KL: 0.0000), Gradient norm: 0.9068\n"
     ]
    },
    {
     "name": "stderr",
     "output_type": "stream",
     "text": [
      " 73%|███████▎  | 343/469 [00:02<00:01, 117.86it/s]"
     ]
    },
    {
     "name": "stdout",
     "output_type": "stream",
     "text": [
      "Step 14,400, (N samples: 1,843,200), Loss: 543.4396, (Recon: 543.4396, KL: 0.0000), Gradient norm: 0.9011\n"
     ]
    },
    {
     "name": "stderr",
     "output_type": "stream",
     "text": [
      " 96%|█████████▌| 451/469 [00:03<00:00, 118.46it/s]"
     ]
    },
    {
     "name": "stdout",
     "output_type": "stream",
     "text": [
      "Step 14,500, (N samples: 1,856,000), Loss: 543.4398, (Recon: 543.4398, KL: 0.0000), Gradient norm: 0.9157\n"
     ]
    },
    {
     "name": "stderr",
     "output_type": "stream",
     "text": [
      "100%|██████████| 469/469 [00:04<00:00, 116.12it/s]\n",
      "Testing: 100%|██████████| 79/79 [00:00<00:00, 158.75it/s]\n"
     ]
    },
    {
     "name": "stdout",
     "output_type": "stream",
     "text": [
      "====> Test set loss: 543.4355, (BCE: 543.4355, KLD: 0.0000)\n",
      "Epoch 32/50\n"
     ]
    },
    {
     "name": "stderr",
     "output_type": "stream",
     "text": [
      " 17%|█▋        | 79/469 [00:00<00:03, 115.75it/s]"
     ]
    },
    {
     "name": "stdout",
     "output_type": "stream",
     "text": [
      "Step 14,600, (N samples: 1,868,800), Loss: 543.4467, (Recon: 543.4467, KL: 0.0000), Gradient norm: 0.9304\n"
     ]
    },
    {
     "name": "stderr",
     "output_type": "stream",
     "text": [
      " 37%|███▋      | 175/469 [00:01<00:02, 118.44it/s]"
     ]
    },
    {
     "name": "stdout",
     "output_type": "stream",
     "text": [
      "Step 14,700, (N samples: 1,881,600), Loss: 543.4332, (Recon: 543.4332, KL: 0.0000), Gradient norm: 0.9011\n"
     ]
    },
    {
     "name": "stderr",
     "output_type": "stream",
     "text": [
      " 60%|██████    | 283/469 [00:02<00:01, 118.43it/s]"
     ]
    },
    {
     "name": "stdout",
     "output_type": "stream",
     "text": [
      "Step 14,800, (N samples: 1,894,400), Loss: 543.4373, (Recon: 543.4373, KL: 0.0000), Gradient norm: 0.9293\n"
     ]
    },
    {
     "name": "stderr",
     "output_type": "stream",
     "text": [
      " 81%|████████  | 379/469 [00:03<00:00, 118.40it/s]"
     ]
    },
    {
     "name": "stdout",
     "output_type": "stream",
     "text": [
      "Step 14,900, (N samples: 1,907,200), Loss: 543.4269, (Recon: 543.4269, KL: 0.0000), Gradient norm: 0.9079\n"
     ]
    },
    {
     "name": "stderr",
     "output_type": "stream",
     "text": [
      "100%|██████████| 469/469 [00:04<00:00, 116.80it/s]\n"
     ]
    },
    {
     "name": "stdout",
     "output_type": "stream",
     "text": [
      "Step 15,000, (N samples: 1,920,000), Loss: 543.4407, (Recon: 543.4407, KL: 0.0000), Gradient norm: 0.9163\n"
     ]
    },
    {
     "name": "stderr",
     "output_type": "stream",
     "text": [
      "Testing: 100%|██████████| 79/79 [00:00<00:00, 158.23it/s]\n"
     ]
    },
    {
     "name": "stdout",
     "output_type": "stream",
     "text": [
      "====> Test set loss: 543.4374, (BCE: 543.4374, KLD: 0.0000)\n",
      "Epoch 33/50\n"
     ]
    },
    {
     "name": "stderr",
     "output_type": "stream",
     "text": [
      " 25%|██▍       | 115/469 [00:01<00:03, 117.66it/s]"
     ]
    },
    {
     "name": "stdout",
     "output_type": "stream",
     "text": [
      "Step 15,100, (N samples: 1,932,800), Loss: 543.4470, (Recon: 543.4470, KL: 0.0000), Gradient norm: 0.9021\n"
     ]
    },
    {
     "name": "stderr",
     "output_type": "stream",
     "text": [
      " 45%|████▍     | 211/469 [00:01<00:02, 118.40it/s]"
     ]
    },
    {
     "name": "stdout",
     "output_type": "stream",
     "text": [
      "Step 15,200, (N samples: 1,945,600), Loss: 543.4335, (Recon: 543.4335, KL: 0.0000), Gradient norm: 0.9056\n"
     ]
    },
    {
     "name": "stderr",
     "output_type": "stream",
     "text": [
      " 65%|██████▌   | 307/469 [00:02<00:01, 118.52it/s]"
     ]
    },
    {
     "name": "stdout",
     "output_type": "stream",
     "text": [
      "Step 15,300, (N samples: 1,958,400), Loss: 543.4418, (Recon: 543.4418, KL: 0.0000), Gradient norm: 0.9270\n"
     ]
    },
    {
     "name": "stderr",
     "output_type": "stream",
     "text": [
      " 88%|████████▊ | 415/469 [00:03<00:00, 118.11it/s]"
     ]
    },
    {
     "name": "stdout",
     "output_type": "stream",
     "text": [
      "Step 15,400, (N samples: 1,971,200), Loss: 543.4424, (Recon: 543.4424, KL: 0.0000), Gradient norm: 0.9284\n"
     ]
    },
    {
     "name": "stderr",
     "output_type": "stream",
     "text": [
      "100%|██████████| 469/469 [00:04<00:00, 116.77it/s]\n",
      "Testing: 100%|██████████| 79/79 [00:00<00:00, 158.58it/s]\n"
     ]
    },
    {
     "name": "stdout",
     "output_type": "stream",
     "text": [
      "====> Test set loss: 543.4358, (BCE: 543.4358, KLD: 0.0000)\n",
      "Epoch 34/50\n"
     ]
    },
    {
     "name": "stderr",
     "output_type": "stream",
     "text": [
      "  9%|▉         | 43/469 [00:00<00:03, 108.44it/s]"
     ]
    },
    {
     "name": "stdout",
     "output_type": "stream",
     "text": [
      "Step 15,500, (N samples: 1,984,000), Loss: 543.4299, (Recon: 543.4299, KL: 0.0000), Gradient norm: 0.9061\n"
     ]
    },
    {
     "name": "stderr",
     "output_type": "stream",
     "text": [
      " 30%|██▉       | 139/469 [00:01<00:02, 118.13it/s]"
     ]
    },
    {
     "name": "stdout",
     "output_type": "stream",
     "text": [
      "Step 15,600, (N samples: 1,996,800), Loss: 543.4385, (Recon: 543.4385, KL: 0.0000), Gradient norm: 0.9164\n"
     ]
    },
    {
     "name": "stderr",
     "output_type": "stream",
     "text": [
      " 53%|█████▎    | 247/469 [00:02<00:01, 118.65it/s]"
     ]
    },
    {
     "name": "stdout",
     "output_type": "stream",
     "text": [
      "Step 15,700, (N samples: 2,009,600), Loss: 543.4344, (Recon: 543.4344, KL: 0.0000), Gradient norm: 0.9166\n"
     ]
    },
    {
     "name": "stderr",
     "output_type": "stream",
     "text": [
      " 73%|███████▎  | 343/469 [00:02<00:01, 118.63it/s]"
     ]
    },
    {
     "name": "stdout",
     "output_type": "stream",
     "text": [
      "Step 15,800, (N samples: 2,022,400), Loss: 543.4386, (Recon: 543.4386, KL: 0.0000), Gradient norm: 0.9592\n"
     ]
    },
    {
     "name": "stderr",
     "output_type": "stream",
     "text": [
      " 94%|█████████▎| 439/469 [00:03<00:00, 118.65it/s]"
     ]
    },
    {
     "name": "stdout",
     "output_type": "stream",
     "text": [
      "Step 15,900, (N samples: 2,035,200), Loss: 543.4293, (Recon: 543.4293, KL: 0.0000), Gradient norm: 0.9382\n"
     ]
    },
    {
     "name": "stderr",
     "output_type": "stream",
     "text": [
      "100%|██████████| 469/469 [00:04<00:00, 116.86it/s]\n",
      "Testing: 100%|██████████| 79/79 [00:00<00:00, 158.56it/s]\n"
     ]
    },
    {
     "name": "stdout",
     "output_type": "stream",
     "text": [
      "====> Test set loss: 543.4372, (BCE: 543.4372, KLD: 0.0000)\n",
      "Epoch 35/50\n"
     ]
    },
    {
     "name": "stderr",
     "output_type": "stream",
     "text": [
      " 14%|█▍        | 67/469 [00:00<00:03, 113.51it/s]"
     ]
    },
    {
     "name": "stdout",
     "output_type": "stream",
     "text": [
      "Step 16,000, (N samples: 2,048,000), Loss: 543.4427, (Recon: 543.4427, KL: 0.0000), Gradient norm: 0.9341\n"
     ]
    },
    {
     "name": "stderr",
     "output_type": "stream",
     "text": [
      " 37%|███▋      | 175/469 [00:01<00:02, 118.35it/s]"
     ]
    },
    {
     "name": "stdout",
     "output_type": "stream",
     "text": [
      "Step 16,100, (N samples: 2,060,800), Loss: 543.4340, (Recon: 543.4340, KL: 0.0000), Gradient norm: 0.9146\n"
     ]
    },
    {
     "name": "stderr",
     "output_type": "stream",
     "text": [
      " 58%|█████▊    | 271/469 [00:02<00:01, 118.68it/s]"
     ]
    },
    {
     "name": "stdout",
     "output_type": "stream",
     "text": [
      "Step 16,200, (N samples: 2,073,600), Loss: 543.4392, (Recon: 543.4392, KL: 0.0000), Gradient norm: 0.9207\n"
     ]
    },
    {
     "name": "stderr",
     "output_type": "stream",
     "text": [
      " 78%|███████▊  | 367/469 [00:03<00:00, 118.39it/s]"
     ]
    },
    {
     "name": "stdout",
     "output_type": "stream",
     "text": [
      "Step 16,300, (N samples: 2,086,400), Loss: 543.4331, (Recon: 543.4331, KL: 0.0000), Gradient norm: 0.9238\n"
     ]
    },
    {
     "name": "stderr",
     "output_type": "stream",
     "text": [
      "100%|██████████| 469/469 [00:04<00:00, 116.74it/s]\n"
     ]
    },
    {
     "name": "stdout",
     "output_type": "stream",
     "text": [
      "Step 16,400, (N samples: 2,099,200), Loss: 543.4339, (Recon: 543.4339, KL: 0.0000), Gradient norm: 0.9126\n"
     ]
    },
    {
     "name": "stderr",
     "output_type": "stream",
     "text": [
      "Testing: 100%|██████████| 79/79 [00:00<00:00, 158.88it/s]\n"
     ]
    },
    {
     "name": "stdout",
     "output_type": "stream",
     "text": [
      "====> Test set loss: 543.4360, (BCE: 543.4360, KLD: 0.0000)\n",
      "Epoch 36/50\n"
     ]
    },
    {
     "name": "stderr",
     "output_type": "stream",
     "text": [
      " 22%|██▏       | 103/469 [00:00<00:03, 117.25it/s]"
     ]
    },
    {
     "name": "stdout",
     "output_type": "stream",
     "text": [
      "Step 16,500, (N samples: 2,112,000), Loss: 543.4398, (Recon: 543.4398, KL: 0.0000), Gradient norm: 0.9300\n"
     ]
    },
    {
     "name": "stderr",
     "output_type": "stream",
     "text": [
      " 42%|████▏     | 199/469 [00:01<00:02, 118.56it/s]"
     ]
    },
    {
     "name": "stdout",
     "output_type": "stream",
     "text": [
      "Step 16,600, (N samples: 2,124,800), Loss: 543.4384, (Recon: 543.4384, KL: 0.0000), Gradient norm: 0.9990\n"
     ]
    },
    {
     "name": "stderr",
     "output_type": "stream",
     "text": [
      " 65%|██████▌   | 307/469 [00:02<00:01, 118.67it/s]"
     ]
    },
    {
     "name": "stdout",
     "output_type": "stream",
     "text": [
      "Step 16,700, (N samples: 2,137,600), Loss: 543.4348, (Recon: 543.4348, KL: 0.0000), Gradient norm: 0.8937\n"
     ]
    },
    {
     "name": "stderr",
     "output_type": "stream",
     "text": [
      " 86%|████████▌ | 403/469 [00:03<00:00, 118.55it/s]"
     ]
    },
    {
     "name": "stdout",
     "output_type": "stream",
     "text": [
      "Step 16,800, (N samples: 2,150,400), Loss: 543.4338, (Recon: 543.4338, KL: 0.0000), Gradient norm: 0.8857\n"
     ]
    },
    {
     "name": "stderr",
     "output_type": "stream",
     "text": [
      "100%|██████████| 469/469 [00:04<00:00, 116.88it/s]\n",
      "Testing: 100%|██████████| 79/79 [00:00<00:00, 158.84it/s]\n"
     ]
    },
    {
     "name": "stdout",
     "output_type": "stream",
     "text": [
      "====> Test set loss: 543.4344, (BCE: 543.4344, KLD: 0.0000)\n",
      "Epoch 37/50\n"
     ]
    },
    {
     "name": "stderr",
     "output_type": "stream",
     "text": [
      "  6%|▋         | 30/469 [00:00<00:04, 101.69it/s]"
     ]
    },
    {
     "name": "stdout",
     "output_type": "stream",
     "text": [
      "Step 16,900, (N samples: 2,163,200), Loss: 543.4386, (Recon: 543.4386, KL: 0.0000), Gradient norm: 0.9342\n"
     ]
    },
    {
     "name": "stderr",
     "output_type": "stream",
     "text": [
      " 29%|██▉       | 138/469 [00:01<00:02, 118.10it/s]"
     ]
    },
    {
     "name": "stdout",
     "output_type": "stream",
     "text": [
      "Step 17,000, (N samples: 2,176,000), Loss: 543.4395, (Recon: 543.4395, KL: 0.0000), Gradient norm: 0.9449\n"
     ]
    },
    {
     "name": "stderr",
     "output_type": "stream",
     "text": [
      " 50%|████▉     | 234/469 [00:02<00:01, 118.56it/s]"
     ]
    },
    {
     "name": "stdout",
     "output_type": "stream",
     "text": [
      "Step 17,100, (N samples: 2,188,800), Loss: 543.4455, (Recon: 543.4455, KL: 0.0000), Gradient norm: 0.9383\n"
     ]
    },
    {
     "name": "stderr",
     "output_type": "stream",
     "text": [
      " 70%|███████   | 330/469 [00:02<00:01, 118.62it/s]"
     ]
    },
    {
     "name": "stdout",
     "output_type": "stream",
     "text": [
      "Step 17,200, (N samples: 2,201,600), Loss: 543.4290, (Recon: 543.4290, KL: 0.0000), Gradient norm: 0.8999\n"
     ]
    },
    {
     "name": "stderr",
     "output_type": "stream",
     "text": [
      " 93%|█████████▎| 438/469 [00:03<00:00, 118.67it/s]"
     ]
    },
    {
     "name": "stdout",
     "output_type": "stream",
     "text": [
      "Step 17,300, (N samples: 2,214,400), Loss: 543.4242, (Recon: 543.4242, KL: 0.0000), Gradient norm: 0.9073\n"
     ]
    },
    {
     "name": "stderr",
     "output_type": "stream",
     "text": [
      "100%|██████████| 469/469 [00:04<00:00, 116.86it/s]\n",
      "Testing: 100%|██████████| 79/79 [00:00<00:00, 159.04it/s]\n"
     ]
    },
    {
     "name": "stdout",
     "output_type": "stream",
     "text": [
      "====> Test set loss: 543.4366, (BCE: 543.4366, KLD: 0.0000)\n",
      "Epoch 38/50\n"
     ]
    },
    {
     "name": "stderr",
     "output_type": "stream",
     "text": [
      " 14%|█▍        | 67/469 [00:00<00:03, 114.29it/s]"
     ]
    },
    {
     "name": "stdout",
     "output_type": "stream",
     "text": [
      "Step 17,400, (N samples: 2,227,200), Loss: 543.4362, (Recon: 543.4362, KL: 0.0000), Gradient norm: 0.9328\n"
     ]
    },
    {
     "name": "stderr",
     "output_type": "stream",
     "text": [
      " 35%|███▍      | 163/469 [00:01<00:02, 118.19it/s]"
     ]
    },
    {
     "name": "stdout",
     "output_type": "stream",
     "text": [
      "Step 17,500, (N samples: 2,240,000), Loss: 543.4456, (Recon: 543.4456, KL: 0.0000), Gradient norm: 1.0206\n"
     ]
    },
    {
     "name": "stderr",
     "output_type": "stream",
     "text": [
      " 58%|█████▊    | 271/469 [00:02<00:01, 118.24it/s]"
     ]
    },
    {
     "name": "stdout",
     "output_type": "stream",
     "text": [
      "Step 17,600, (N samples: 2,252,800), Loss: 543.4318, (Recon: 543.4318, KL: 0.0000), Gradient norm: 0.9246\n"
     ]
    },
    {
     "name": "stderr",
     "output_type": "stream",
     "text": [
      " 78%|███████▊  | 367/469 [00:03<00:00, 118.57it/s]"
     ]
    },
    {
     "name": "stdout",
     "output_type": "stream",
     "text": [
      "Step 17,700, (N samples: 2,265,600), Loss: 543.4349, (Recon: 543.4349, KL: 0.0000), Gradient norm: 0.9621\n"
     ]
    },
    {
     "name": "stderr",
     "output_type": "stream",
     "text": [
      "100%|██████████| 469/469 [00:04<00:00, 116.80it/s]\n"
     ]
    },
    {
     "name": "stdout",
     "output_type": "stream",
     "text": [
      "Step 17,800, (N samples: 2,278,400), Loss: 543.4451, (Recon: 543.4451, KL: 0.0000), Gradient norm: 0.9491\n"
     ]
    },
    {
     "name": "stderr",
     "output_type": "stream",
     "text": [
      "Testing: 100%|██████████| 79/79 [00:00<00:00, 158.96it/s]\n"
     ]
    },
    {
     "name": "stdout",
     "output_type": "stream",
     "text": [
      "====> Test set loss: 543.4364, (BCE: 543.4364, KLD: 0.0000)\n",
      "Epoch 39/50\n"
     ]
    },
    {
     "name": "stderr",
     "output_type": "stream",
     "text": [
      " 19%|█▉        | 91/469 [00:00<00:03, 116.50it/s]"
     ]
    },
    {
     "name": "stdout",
     "output_type": "stream",
     "text": [
      "Step 17,900, (N samples: 2,291,200), Loss: 543.4414, (Recon: 543.4414, KL: 0.0000), Gradient norm: 0.9839\n"
     ]
    },
    {
     "name": "stderr",
     "output_type": "stream",
     "text": [
      " 42%|████▏     | 199/469 [00:01<00:02, 118.50it/s]"
     ]
    },
    {
     "name": "stdout",
     "output_type": "stream",
     "text": [
      "Step 18,000, (N samples: 2,304,000), Loss: 543.4373, (Recon: 543.4373, KL: 0.0000), Gradient norm: 0.9083\n"
     ]
    },
    {
     "name": "stderr",
     "output_type": "stream",
     "text": [
      " 63%|██████▎   | 295/469 [00:02<00:01, 118.53it/s]"
     ]
    },
    {
     "name": "stdout",
     "output_type": "stream",
     "text": [
      "Step 18,100, (N samples: 2,316,800), Loss: 543.4342, (Recon: 543.4342, KL: 0.0000), Gradient norm: 0.9225\n"
     ]
    },
    {
     "name": "stderr",
     "output_type": "stream",
     "text": [
      " 83%|████████▎ | 391/469 [00:03<00:00, 118.54it/s]"
     ]
    },
    {
     "name": "stdout",
     "output_type": "stream",
     "text": [
      "Step 18,200, (N samples: 2,329,600), Loss: 543.4352, (Recon: 543.4352, KL: 0.0000), Gradient norm: 0.9249\n"
     ]
    },
    {
     "name": "stderr",
     "output_type": "stream",
     "text": [
      "100%|██████████| 469/469 [00:04<00:00, 116.79it/s]\n",
      "Testing: 100%|██████████| 79/79 [00:00<00:00, 158.74it/s]\n"
     ]
    },
    {
     "name": "stdout",
     "output_type": "stream",
     "text": [
      "====> Test set loss: 543.4383, (BCE: 543.4383, KLD: 0.0000)\n",
      "Epoch 40/50\n"
     ]
    },
    {
     "name": "stderr",
     "output_type": "stream",
     "text": [
      "  2%|▏         | 9/469 [00:00<00:05, 84.30it/s]"
     ]
    },
    {
     "name": "stdout",
     "output_type": "stream",
     "text": [
      "Step 18,300, (N samples: 2,342,400), Loss: 543.4375, (Recon: 543.4375, KL: 0.0000), Gradient norm: 0.9214\n"
     ]
    },
    {
     "name": "stderr",
     "output_type": "stream",
     "text": [
      " 27%|██▋       | 126/469 [00:01<00:02, 117.74it/s]"
     ]
    },
    {
     "name": "stdout",
     "output_type": "stream",
     "text": [
      "Step 18,400, (N samples: 2,355,200), Loss: 543.4341, (Recon: 543.4341, KL: 0.0000), Gradient norm: 0.9790\n"
     ]
    },
    {
     "name": "stderr",
     "output_type": "stream",
     "text": [
      " 47%|████▋     | 222/469 [00:01<00:02, 118.55it/s]"
     ]
    },
    {
     "name": "stdout",
     "output_type": "stream",
     "text": [
      "Step 18,500, (N samples: 2,368,000), Loss: 543.4304, (Recon: 543.4304, KL: 0.0000), Gradient norm: 0.9547\n"
     ]
    },
    {
     "name": "stderr",
     "output_type": "stream",
     "text": [
      " 70%|███████   | 330/469 [00:02<00:01, 118.53it/s]"
     ]
    },
    {
     "name": "stdout",
     "output_type": "stream",
     "text": [
      "Step 18,600, (N samples: 2,380,800), Loss: 543.4290, (Recon: 543.4290, KL: 0.0000), Gradient norm: 0.9280\n"
     ]
    },
    {
     "name": "stderr",
     "output_type": "stream",
     "text": [
      " 91%|█████████ | 426/469 [00:03<00:00, 118.49it/s]"
     ]
    },
    {
     "name": "stdout",
     "output_type": "stream",
     "text": [
      "Step 18,700, (N samples: 2,393,600), Loss: 543.4371, (Recon: 543.4371, KL: 0.0000), Gradient norm: 0.9275\n"
     ]
    },
    {
     "name": "stderr",
     "output_type": "stream",
     "text": [
      "100%|██████████| 469/469 [00:04<00:00, 116.81it/s]\n",
      "Testing: 100%|██████████| 79/79 [00:00<00:00, 158.28it/s]\n"
     ]
    },
    {
     "name": "stdout",
     "output_type": "stream",
     "text": [
      "====> Test set loss: 543.4371, (BCE: 543.4371, KLD: 0.0000)\n",
      "Epoch 41/50\n"
     ]
    },
    {
     "name": "stderr",
     "output_type": "stream",
     "text": [
      " 12%|█▏        | 55/469 [00:00<00:03, 111.53it/s]"
     ]
    },
    {
     "name": "stdout",
     "output_type": "stream",
     "text": [
      "Step 18,800, (N samples: 2,406,400), Loss: 543.4286, (Recon: 543.4286, KL: 0.0000), Gradient norm: 0.8478\n"
     ]
    },
    {
     "name": "stderr",
     "output_type": "stream",
     "text": [
      " 35%|███▍      | 163/469 [00:01<00:02, 117.93it/s]"
     ]
    },
    {
     "name": "stdout",
     "output_type": "stream",
     "text": [
      "Step 18,900, (N samples: 2,419,200), Loss: 543.4440, (Recon: 543.4440, KL: 0.0000), Gradient norm: 0.9158\n"
     ]
    },
    {
     "name": "stderr",
     "output_type": "stream",
     "text": [
      " 55%|█████▌    | 259/469 [00:02<00:01, 118.49it/s]"
     ]
    },
    {
     "name": "stdout",
     "output_type": "stream",
     "text": [
      "Step 19,000, (N samples: 2,432,000), Loss: 543.4272, (Recon: 543.4272, KL: 0.0000), Gradient norm: 0.9333\n"
     ]
    },
    {
     "name": "stderr",
     "output_type": "stream",
     "text": [
      " 76%|███████▌  | 355/469 [00:03<00:00, 118.30it/s]"
     ]
    },
    {
     "name": "stdout",
     "output_type": "stream",
     "text": [
      "Step 19,100, (N samples: 2,444,800), Loss: 543.4326, (Recon: 543.4326, KL: 0.0000), Gradient norm: 0.9690\n"
     ]
    },
    {
     "name": "stderr",
     "output_type": "stream",
     "text": [
      " 99%|█████████▊| 463/469 [00:03<00:00, 118.23it/s]"
     ]
    },
    {
     "name": "stdout",
     "output_type": "stream",
     "text": [
      "Step 19,200, (N samples: 2,457,600), Loss: 543.4451, (Recon: 543.4451, KL: 0.0000), Gradient norm: 0.9318\n"
     ]
    },
    {
     "name": "stderr",
     "output_type": "stream",
     "text": [
      "100%|██████████| 469/469 [00:04<00:00, 116.58it/s]\n",
      "Testing: 100%|██████████| 79/79 [00:00<00:00, 158.77it/s]\n"
     ]
    },
    {
     "name": "stdout",
     "output_type": "stream",
     "text": [
      "====> Test set loss: 543.4374, (BCE: 543.4374, KLD: 0.0000)\n",
      "Epoch 42/50\n"
     ]
    },
    {
     "name": "stderr",
     "output_type": "stream",
     "text": [
      " 19%|█▉        | 91/469 [00:00<00:03, 116.71it/s]"
     ]
    },
    {
     "name": "stdout",
     "output_type": "stream",
     "text": [
      "Step 19,300, (N samples: 2,470,400), Loss: 543.4313, (Recon: 543.4313, KL: 0.0000), Gradient norm: 0.9468\n"
     ]
    },
    {
     "name": "stderr",
     "output_type": "stream",
     "text": [
      " 40%|███▉      | 187/469 [00:01<00:02, 118.56it/s]"
     ]
    },
    {
     "name": "stdout",
     "output_type": "stream",
     "text": [
      "Step 19,400, (N samples: 2,483,200), Loss: 543.4437, (Recon: 543.4437, KL: 0.0000), Gradient norm: 0.9435\n"
     ]
    },
    {
     "name": "stderr",
     "output_type": "stream",
     "text": [
      " 63%|██████▎   | 295/469 [00:02<00:01, 118.42it/s]"
     ]
    },
    {
     "name": "stdout",
     "output_type": "stream",
     "text": [
      "Step 19,500, (N samples: 2,496,000), Loss: 543.4357, (Recon: 543.4357, KL: 0.0000), Gradient norm: 0.9063\n"
     ]
    },
    {
     "name": "stderr",
     "output_type": "stream",
     "text": [
      " 83%|████████▎ | 391/469 [00:03<00:00, 118.49it/s]"
     ]
    },
    {
     "name": "stdout",
     "output_type": "stream",
     "text": [
      "Step 19,600, (N samples: 2,508,800), Loss: 543.4341, (Recon: 543.4341, KL: 0.0000), Gradient norm: 0.9620\n"
     ]
    },
    {
     "name": "stderr",
     "output_type": "stream",
     "text": [
      "100%|██████████| 469/469 [00:04<00:00, 116.84it/s]\n",
      "Testing: 100%|██████████| 79/79 [00:00<00:00, 158.24it/s]\n"
     ]
    },
    {
     "name": "stdout",
     "output_type": "stream",
     "text": [
      "====> Test set loss: 543.4367, (BCE: 543.4367, KLD: 0.0000)\n",
      "Epoch 43/50\n"
     ]
    },
    {
     "name": "stderr",
     "output_type": "stream",
     "text": [
      "  2%|▏         | 9/469 [00:00<00:05, 82.26it/s]"
     ]
    },
    {
     "name": "stdout",
     "output_type": "stream",
     "text": [
      "Step 19,700, (N samples: 2,521,600), Loss: 543.4375, (Recon: 543.4375, KL: 0.0000), Gradient norm: 0.9756\n"
     ]
    },
    {
     "name": "stderr",
     "output_type": "stream",
     "text": [
      " 25%|██▍       | 115/469 [00:01<00:03, 117.68it/s]"
     ]
    },
    {
     "name": "stdout",
     "output_type": "stream",
     "text": [
      "Step 19,800, (N samples: 2,534,400), Loss: 543.4350, (Recon: 543.4350, KL: 0.0000), Gradient norm: 0.8800\n"
     ]
    },
    {
     "name": "stderr",
     "output_type": "stream",
     "text": [
      " 48%|████▊     | 223/469 [00:01<00:02, 118.54it/s]"
     ]
    },
    {
     "name": "stdout",
     "output_type": "stream",
     "text": [
      "Step 19,900, (N samples: 2,547,200), Loss: 543.4373, (Recon: 543.4373, KL: 0.0000), Gradient norm: 1.0425\n"
     ]
    },
    {
     "name": "stderr",
     "output_type": "stream",
     "text": [
      " 68%|██████▊   | 319/469 [00:02<00:01, 118.36it/s]"
     ]
    },
    {
     "name": "stdout",
     "output_type": "stream",
     "text": [
      "Step 20,000, (N samples: 2,560,000), Loss: 543.4449, (Recon: 543.4449, KL: 0.0000), Gradient norm: 0.9811\n"
     ]
    },
    {
     "name": "stderr",
     "output_type": "stream",
     "text": [
      " 88%|████████▊ | 415/469 [00:03<00:00, 118.63it/s]"
     ]
    },
    {
     "name": "stdout",
     "output_type": "stream",
     "text": [
      "Step 20,100, (N samples: 2,572,800), Loss: 543.4373, (Recon: 543.4373, KL: 0.0000), Gradient norm: 0.9910\n"
     ]
    },
    {
     "name": "stderr",
     "output_type": "stream",
     "text": [
      "100%|██████████| 469/469 [00:04<00:00, 116.86it/s]\n",
      "Testing: 100%|██████████| 79/79 [00:00<00:00, 158.69it/s]\n"
     ]
    },
    {
     "name": "stdout",
     "output_type": "stream",
     "text": [
      "====> Test set loss: 543.4353, (BCE: 543.4353, KLD: 0.0000)\n",
      "Epoch 44/50\n"
     ]
    },
    {
     "name": "stderr",
     "output_type": "stream",
     "text": [
      " 12%|█▏        | 55/469 [00:00<00:03, 111.46it/s]"
     ]
    },
    {
     "name": "stdout",
     "output_type": "stream",
     "text": [
      "Step 20,200, (N samples: 2,585,600), Loss: 543.4385, (Recon: 543.4385, KL: 0.0000), Gradient norm: 0.8840\n"
     ]
    },
    {
     "name": "stderr",
     "output_type": "stream",
     "text": [
      " 32%|███▏      | 151/469 [00:01<00:02, 118.15it/s]"
     ]
    },
    {
     "name": "stdout",
     "output_type": "stream",
     "text": [
      "Step 20,300, (N samples: 2,598,400), Loss: 543.4458, (Recon: 543.4458, KL: 0.0000), Gradient norm: 0.9539\n"
     ]
    },
    {
     "name": "stderr",
     "output_type": "stream",
     "text": [
      " 53%|█████▎    | 247/469 [00:02<00:01, 118.57it/s]"
     ]
    },
    {
     "name": "stdout",
     "output_type": "stream",
     "text": [
      "Step 20,400, (N samples: 2,611,200), Loss: 543.4393, (Recon: 543.4393, KL: 0.0000), Gradient norm: 0.9128\n"
     ]
    },
    {
     "name": "stderr",
     "output_type": "stream",
     "text": [
      " 76%|███████▌  | 355/469 [00:03<00:00, 118.53it/s]"
     ]
    },
    {
     "name": "stdout",
     "output_type": "stream",
     "text": [
      "Step 20,500, (N samples: 2,624,000), Loss: 543.4238, (Recon: 543.4238, KL: 0.0000), Gradient norm: 0.9297\n"
     ]
    },
    {
     "name": "stderr",
     "output_type": "stream",
     "text": [
      " 96%|█████████▌| 451/469 [00:03<00:00, 118.46it/s]"
     ]
    },
    {
     "name": "stdout",
     "output_type": "stream",
     "text": [
      "Step 20,600, (N samples: 2,636,800), Loss: 543.4354, (Recon: 543.4354, KL: 0.0000), Gradient norm: 0.9283\n"
     ]
    },
    {
     "name": "stderr",
     "output_type": "stream",
     "text": [
      "100%|██████████| 469/469 [00:04<00:00, 116.68it/s]\n",
      "Testing: 100%|██████████| 79/79 [00:00<00:00, 159.48it/s]\n"
     ]
    },
    {
     "name": "stdout",
     "output_type": "stream",
     "text": [
      "====> Test set loss: 543.4361, (BCE: 543.4361, KLD: 0.0000)\n",
      "Epoch 45/50\n"
     ]
    },
    {
     "name": "stderr",
     "output_type": "stream",
     "text": [
      " 17%|█▋        | 79/469 [00:00<00:03, 115.71it/s]"
     ]
    },
    {
     "name": "stdout",
     "output_type": "stream",
     "text": [
      "Step 20,700, (N samples: 2,649,600), Loss: 543.4438, (Recon: 543.4438, KL: 0.0000), Gradient norm: 0.9921\n"
     ]
    },
    {
     "name": "stderr",
     "output_type": "stream",
     "text": [
      " 40%|███▉      | 187/469 [00:01<00:02, 118.48it/s]"
     ]
    },
    {
     "name": "stdout",
     "output_type": "stream",
     "text": [
      "Step 20,800, (N samples: 2,662,400), Loss: 543.4335, (Recon: 543.4335, KL: 0.0000), Gradient norm: 0.9285\n"
     ]
    },
    {
     "name": "stderr",
     "output_type": "stream",
     "text": [
      " 60%|██████    | 283/469 [00:02<00:01, 118.65it/s]"
     ]
    },
    {
     "name": "stdout",
     "output_type": "stream",
     "text": [
      "Step 20,900, (N samples: 2,675,200), Loss: 543.4390, (Recon: 543.4390, KL: 0.0000), Gradient norm: 0.9288\n"
     ]
    },
    {
     "name": "stderr",
     "output_type": "stream",
     "text": [
      " 81%|████████  | 379/469 [00:03<00:00, 118.70it/s]"
     ]
    },
    {
     "name": "stdout",
     "output_type": "stream",
     "text": [
      "Step 21,000, (N samples: 2,688,000), Loss: 543.4479, (Recon: 543.4479, KL: 0.0000), Gradient norm: 1.0118\n"
     ]
    },
    {
     "name": "stderr",
     "output_type": "stream",
     "text": [
      "100%|██████████| 469/469 [00:04<00:00, 116.80it/s]\n"
     ]
    },
    {
     "name": "stdout",
     "output_type": "stream",
     "text": [
      "Step 21,100, (N samples: 2,700,800), Loss: 543.4404, (Recon: 543.4404, KL: 0.0000), Gradient norm: 0.9870\n"
     ]
    },
    {
     "name": "stderr",
     "output_type": "stream",
     "text": [
      "Testing: 100%|██████████| 79/79 [00:00<00:00, 158.55it/s]\n"
     ]
    },
    {
     "name": "stdout",
     "output_type": "stream",
     "text": [
      "====> Test set loss: 543.4376, (BCE: 543.4376, KLD: 0.0000)\n",
      "Epoch 46/50\n"
     ]
    },
    {
     "name": "stderr",
     "output_type": "stream",
     "text": [
      " 25%|██▍       | 115/469 [00:01<00:03, 117.54it/s]"
     ]
    },
    {
     "name": "stdout",
     "output_type": "stream",
     "text": [
      "Step 21,200, (N samples: 2,713,600), Loss: 543.4419, (Recon: 543.4419, KL: 0.0000), Gradient norm: 0.9424\n"
     ]
    },
    {
     "name": "stderr",
     "output_type": "stream",
     "text": [
      " 45%|████▍     | 211/469 [00:01<00:02, 118.53it/s]"
     ]
    },
    {
     "name": "stdout",
     "output_type": "stream",
     "text": [
      "Step 21,300, (N samples: 2,726,400), Loss: 543.4406, (Recon: 543.4406, KL: 0.0000), Gradient norm: 0.9029\n"
     ]
    },
    {
     "name": "stderr",
     "output_type": "stream",
     "text": [
      " 68%|██████▊   | 319/469 [00:02<00:01, 118.58it/s]"
     ]
    },
    {
     "name": "stdout",
     "output_type": "stream",
     "text": [
      "Step 21,400, (N samples: 2,739,200), Loss: 543.4361, (Recon: 543.4361, KL: 0.0000), Gradient norm: 0.9735\n"
     ]
    },
    {
     "name": "stderr",
     "output_type": "stream",
     "text": [
      " 88%|████████▊ | 415/469 [00:03<00:00, 118.57it/s]"
     ]
    },
    {
     "name": "stdout",
     "output_type": "stream",
     "text": [
      "Step 21,500, (N samples: 2,752,000), Loss: 543.4400, (Recon: 543.4400, KL: 0.0000), Gradient norm: 0.9197\n"
     ]
    },
    {
     "name": "stderr",
     "output_type": "stream",
     "text": [
      "100%|██████████| 469/469 [00:04<00:00, 116.83it/s]\n",
      "Testing: 100%|██████████| 79/79 [00:00<00:00, 158.13it/s]\n"
     ]
    },
    {
     "name": "stdout",
     "output_type": "stream",
     "text": [
      "====> Test set loss: 543.4364, (BCE: 543.4364, KLD: 0.0000)\n",
      "Epoch 47/50\n"
     ]
    },
    {
     "name": "stderr",
     "output_type": "stream",
     "text": [
      "  9%|▉         | 43/469 [00:00<00:03, 108.28it/s]"
     ]
    },
    {
     "name": "stdout",
     "output_type": "stream",
     "text": [
      "Step 21,600, (N samples: 2,764,800), Loss: 543.4470, (Recon: 543.4470, KL: 0.0000), Gradient norm: 0.9083\n"
     ]
    },
    {
     "name": "stderr",
     "output_type": "stream",
     "text": [
      " 30%|██▉       | 139/469 [00:01<00:02, 117.71it/s]"
     ]
    },
    {
     "name": "stdout",
     "output_type": "stream",
     "text": [
      "Step 21,700, (N samples: 2,777,600), Loss: 543.4443, (Recon: 543.4443, KL: 0.0000), Gradient norm: 0.9346\n"
     ]
    },
    {
     "name": "stderr",
     "output_type": "stream",
     "text": [
      " 53%|█████▎    | 247/469 [00:02<00:01, 118.58it/s]"
     ]
    },
    {
     "name": "stdout",
     "output_type": "stream",
     "text": [
      "Step 21,800, (N samples: 2,790,400), Loss: 543.4421, (Recon: 543.4421, KL: 0.0000), Gradient norm: 0.8975\n"
     ]
    },
    {
     "name": "stderr",
     "output_type": "stream",
     "text": [
      " 73%|███████▎  | 343/469 [00:02<00:01, 118.62it/s]"
     ]
    },
    {
     "name": "stdout",
     "output_type": "stream",
     "text": [
      "Step 21,900, (N samples: 2,803,200), Loss: 543.4315, (Recon: 543.4314, KL: 0.0000), Gradient norm: 0.9983\n"
     ]
    },
    {
     "name": "stderr",
     "output_type": "stream",
     "text": [
      " 94%|█████████▎| 439/469 [00:03<00:00, 118.64it/s]"
     ]
    },
    {
     "name": "stdout",
     "output_type": "stream",
     "text": [
      "Step 22,000, (N samples: 2,816,000), Loss: 543.4199, (Recon: 543.4199, KL: 0.0000), Gradient norm: 0.9832\n"
     ]
    },
    {
     "name": "stderr",
     "output_type": "stream",
     "text": [
      "100%|██████████| 469/469 [00:04<00:00, 116.82it/s]\n",
      "Testing: 100%|██████████| 79/79 [00:00<00:00, 158.45it/s]\n"
     ]
    },
    {
     "name": "stdout",
     "output_type": "stream",
     "text": [
      "====> Test set loss: 543.4362, (BCE: 543.4362, KLD: 0.0000)\n",
      "Epoch 48/50\n"
     ]
    },
    {
     "name": "stderr",
     "output_type": "stream",
     "text": [
      " 17%|█▋        | 79/469 [00:00<00:03, 115.79it/s]"
     ]
    },
    {
     "name": "stdout",
     "output_type": "stream",
     "text": [
      "Step 22,100, (N samples: 2,828,800), Loss: 543.4442, (Recon: 543.4442, KL: 0.0000), Gradient norm: 0.8779\n"
     ]
    },
    {
     "name": "stderr",
     "output_type": "stream",
     "text": [
      " 37%|███▋      | 175/469 [00:01<00:02, 118.47it/s]"
     ]
    },
    {
     "name": "stdout",
     "output_type": "stream",
     "text": [
      "Step 22,200, (N samples: 2,841,600), Loss: 543.4415, (Recon: 543.4415, KL: 0.0000), Gradient norm: 0.9602\n"
     ]
    },
    {
     "name": "stderr",
     "output_type": "stream",
     "text": [
      " 58%|█████▊    | 271/469 [00:02<00:01, 118.60it/s]"
     ]
    },
    {
     "name": "stdout",
     "output_type": "stream",
     "text": [
      "Step 22,300, (N samples: 2,854,400), Loss: 543.4352, (Recon: 543.4352, KL: 0.0000), Gradient norm: 0.9921\n"
     ]
    },
    {
     "name": "stderr",
     "output_type": "stream",
     "text": [
      " 81%|████████  | 379/469 [00:03<00:00, 118.73it/s]"
     ]
    },
    {
     "name": "stdout",
     "output_type": "stream",
     "text": [
      "Step 22,400, (N samples: 2,867,200), Loss: 543.4449, (Recon: 543.4449, KL: 0.0000), Gradient norm: 0.9016\n"
     ]
    },
    {
     "name": "stderr",
     "output_type": "stream",
     "text": [
      "100%|██████████| 469/469 [00:04<00:00, 116.88it/s]\n"
     ]
    },
    {
     "name": "stdout",
     "output_type": "stream",
     "text": [
      "Step 22,500, (N samples: 2,880,000), Loss: 543.4452, (Recon: 543.4452, KL: 0.0000), Gradient norm: 0.8984\n"
     ]
    },
    {
     "name": "stderr",
     "output_type": "stream",
     "text": [
      "Testing: 100%|██████████| 79/79 [00:00<00:00, 159.75it/s]\n"
     ]
    },
    {
     "name": "stdout",
     "output_type": "stream",
     "text": [
      "====> Test set loss: 543.4361, (BCE: 543.4361, KLD: 0.0000)\n",
      "Epoch 49/50\n"
     ]
    },
    {
     "name": "stderr",
     "output_type": "stream",
     "text": [
      " 22%|██▏       | 103/469 [00:00<00:03, 117.18it/s]"
     ]
    },
    {
     "name": "stdout",
     "output_type": "stream",
     "text": [
      "Step 22,600, (N samples: 2,892,800), Loss: 543.4399, (Recon: 543.4399, KL: 0.0000), Gradient norm: 0.9097\n"
     ]
    },
    {
     "name": "stderr",
     "output_type": "stream",
     "text": [
      " 45%|████▍     | 211/469 [00:01<00:02, 118.45it/s]"
     ]
    },
    {
     "name": "stdout",
     "output_type": "stream",
     "text": [
      "Step 22,700, (N samples: 2,905,600), Loss: 543.4352, (Recon: 543.4352, KL: 0.0000), Gradient norm: 0.8840\n"
     ]
    },
    {
     "name": "stderr",
     "output_type": "stream",
     "text": [
      " 65%|██████▌   | 307/469 [00:02<00:01, 118.46it/s]"
     ]
    },
    {
     "name": "stdout",
     "output_type": "stream",
     "text": [
      "Step 22,800, (N samples: 2,918,400), Loss: 543.4294, (Recon: 543.4294, KL: 0.0000), Gradient norm: 0.9386\n"
     ]
    },
    {
     "name": "stderr",
     "output_type": "stream",
     "text": [
      " 86%|████████▌ | 403/469 [00:03<00:00, 118.61it/s]"
     ]
    },
    {
     "name": "stdout",
     "output_type": "stream",
     "text": [
      "Step 22,900, (N samples: 2,931,200), Loss: 543.4454, (Recon: 543.4454, KL: 0.0000), Gradient norm: 0.9530\n"
     ]
    },
    {
     "name": "stderr",
     "output_type": "stream",
     "text": [
      "100%|██████████| 469/469 [00:04<00:00, 116.84it/s]\n",
      "Testing: 100%|██████████| 79/79 [00:00<00:00, 158.95it/s]\n"
     ]
    },
    {
     "name": "stdout",
     "output_type": "stream",
     "text": [
      "====> Test set loss: 543.4388, (BCE: 543.4388, KLD: 0.0000)\n",
      "Epoch 50/50\n"
     ]
    },
    {
     "name": "stderr",
     "output_type": "stream",
     "text": [
      "  9%|▉         | 43/469 [00:00<00:03, 108.02it/s]"
     ]
    },
    {
     "name": "stdout",
     "output_type": "stream",
     "text": [
      "Step 23,000, (N samples: 2,944,000), Loss: 543.4315, (Recon: 543.4314, KL: 0.0001), Gradient norm: 0.9703\n"
     ]
    },
    {
     "name": "stderr",
     "output_type": "stream",
     "text": [
      " 30%|██▉       | 139/469 [00:01<00:02, 117.85it/s]"
     ]
    },
    {
     "name": "stdout",
     "output_type": "stream",
     "text": [
      "Step 23,100, (N samples: 2,956,800), Loss: 543.4360, (Recon: 543.4360, KL: 0.0000), Gradient norm: 0.8947\n"
     ]
    },
    {
     "name": "stderr",
     "output_type": "stream",
     "text": [
      " 50%|█████     | 235/469 [00:02<00:01, 118.19it/s]"
     ]
    },
    {
     "name": "stdout",
     "output_type": "stream",
     "text": [
      "Step 23,200, (N samples: 2,969,600), Loss: 543.4272, (Recon: 543.4272, KL: 0.0000), Gradient norm: 0.9126\n"
     ]
    },
    {
     "name": "stderr",
     "output_type": "stream",
     "text": [
      " 73%|███████▎  | 343/469 [00:02<00:01, 118.23it/s]"
     ]
    },
    {
     "name": "stdout",
     "output_type": "stream",
     "text": [
      "Step 23,300, (N samples: 2,982,400), Loss: 543.4387, (Recon: 543.4387, KL: 0.0000), Gradient norm: 0.9439\n"
     ]
    },
    {
     "name": "stderr",
     "output_type": "stream",
     "text": [
      " 94%|█████████▎| 439/469 [00:03<00:00, 118.51it/s]"
     ]
    },
    {
     "name": "stdout",
     "output_type": "stream",
     "text": [
      "Step 23,400, (N samples: 2,995,200), Loss: 543.4240, (Recon: 543.4240, KL: 0.0000), Gradient norm: 0.9210\n"
     ]
    },
    {
     "name": "stderr",
     "output_type": "stream",
     "text": [
      "100%|██████████| 469/469 [00:04<00:00, 116.65it/s]\n",
      "Testing: 100%|██████████| 79/79 [00:00<00:00, 158.98it/s]"
     ]
    },
    {
     "name": "stdout",
     "output_type": "stream",
     "text": [
      "====> Test set loss: 543.4358, (BCE: 543.4358, KLD: 0.0000)\n"
     ]
    },
    {
     "name": "stderr",
     "output_type": "stream",
     "text": [
      "\n"
     ]
    }
   ],
   "source": [
    "from methylVA.mnist.training import train, test\n",
    "\n",
    "\n",
    "prev_updates = 0\n",
    "for epoch in range(num_epochs):\n",
    "    print(f'Epoch {epoch + 1}/{num_epochs}')\n",
    "    prev_updates = train(model, train_loader, optimizer, prev_updates, writer=writer_train)\n",
    "    test(model, test_loader, prev_updates, writer=writer_test)"
   ]
  },
  {
   "cell_type": "code",
   "execution_count": 15,
   "id": "1f021808-1c7a-4056-8949-510ab6c38ccd",
   "metadata": {},
   "outputs": [],
   "source": [
    "writer_train.flush()\n",
    "writer_test.flush()"
   ]
  },
  {
   "cell_type": "code",
   "execution_count": 16,
   "id": "56c7168b-6332-47c0-bcf3-5af6a774aaeb",
   "metadata": {},
   "outputs": [],
   "source": [
    "%load_ext tensorboard"
   ]
  },
  {
   "cell_type": "code",
   "execution_count": 23,
   "id": "57f0fdc6-5053-47bc-bd46-d64b3e09aeb3",
   "metadata": {},
   "outputs": [
    {
     "data": {
      "text/plain": [
       "Reusing TensorBoard on port 6011 (pid 1110344), started 0:00:12 ago. (Use '!kill 1110344' to kill it.)"
      ]
     },
     "metadata": {},
     "output_type": "display_data"
    },
    {
     "data": {
      "text/html": [
       "\n",
       "      <iframe id=\"tensorboard-frame-63404df976634da8\" width=\"100%\" height=\"800\" frameborder=\"0\">\n",
       "      </iframe>\n",
       "      <script>\n",
       "        (function() {\n",
       "          const frame = document.getElementById(\"tensorboard-frame-63404df976634da8\");\n",
       "          const url = new URL(\"/\", window.location);\n",
       "          const port = 6011;\n",
       "          if (port) {\n",
       "            url.port = port;\n",
       "          }\n",
       "          frame.src = url;\n",
       "        })();\n",
       "      </script>\n",
       "    "
      ],
      "text/plain": [
       "<IPython.core.display.HTML object>"
      ]
     },
     "metadata": {},
     "output_type": "display_data"
    }
   ],
   "source": [
    "%tensorboard --logdir ../experiments/VAE_MNIST/20241028-004306/"
   ]
  },
  {
   "cell_type": "code",
   "execution_count": null,
   "id": "cc742882-f291-4e76-869c-8ad7999e29ee",
   "metadata": {},
   "outputs": [],
   "source": []
  }
 ],
 "metadata": {
  "kernelspec": {
   "display_name": "Python [conda env:meth]",
   "language": "python",
   "name": "conda-env-meth-py"
  },
  "language_info": {
   "codemirror_mode": {
    "name": "ipython",
    "version": 3
   },
   "file_extension": ".py",
   "mimetype": "text/x-python",
   "name": "python",
   "nbconvert_exporter": "python",
   "pygments_lexer": "ipython3",
   "version": "3.10.15"
  }
 },
 "nbformat": 4,
 "nbformat_minor": 5
}
